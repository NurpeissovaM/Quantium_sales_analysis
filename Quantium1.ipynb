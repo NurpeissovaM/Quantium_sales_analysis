{
 "cells": [
  {
   "cell_type": "markdown",
   "id": "e271fdef",
   "metadata": {},
   "source": [
    "# Quantium data project"
   ]
  },
  {
   "cell_type": "code",
   "execution_count": 5,
   "id": "bf999366",
   "metadata": {
    "scrolled": false
   },
   "outputs": [
    {
     "name": "stdout",
     "output_type": "stream",
     "text": [
      "Collecting openpyxl\n",
      "  Downloading openpyxl-3.1.0-py2.py3-none-any.whl (250 kB)\n",
      "\u001b[K     |████████████████████████████████| 250 kB 528 kB/s eta 0:00:01\n",
      "\u001b[?25hCollecting et-xmlfile\n",
      "  Downloading et_xmlfile-1.1.0-py3-none-any.whl (4.7 kB)\n",
      "Installing collected packages: et-xmlfile, openpyxl\n",
      "Successfully installed et-xmlfile-1.1.0 openpyxl-3.1.0\n",
      "Note: you may need to restart the kernel to use updated packages.\n"
     ]
    }
   ],
   "source": [
    "pip install openpyxl"
   ]
  },
  {
   "cell_type": "code",
   "execution_count": 177,
   "id": "df07e39b",
   "metadata": {},
   "outputs": [],
   "source": [
    "import pandas as pd\n",
    "import numpy as np\n",
    "import matplotlib.pyplot as plt\n",
    "from datetime import datetime, timedelta"
   ]
  },
  {
   "cell_type": "markdown",
   "id": "e662630a",
   "metadata": {},
   "source": [
    "## Transaction data "
   ]
  },
  {
   "cell_type": "code",
   "execution_count": 103,
   "id": "6ff03032",
   "metadata": {
    "scrolled": true
   },
   "outputs": [
    {
     "name": "stdout",
     "output_type": "stream",
     "text": [
      "         DATE  STORE_NBR  LYLTY_CARD_NBR  TXN_ID  PROD_NBR  \\\n",
      "0       43390          1            1000       1         5   \n",
      "1       43599          1            1307     348        66   \n",
      "2       43605          1            1343     383        61   \n",
      "3       43329          2            2373     974        69   \n",
      "4       43330          2            2426    1038       108   \n",
      "...       ...        ...             ...     ...       ...   \n",
      "264831  43533        272          272319  270088        89   \n",
      "264832  43325        272          272358  270154        74   \n",
      "264833  43410        272          272379  270187        51   \n",
      "264834  43461        272          272379  270188        42   \n",
      "264835  43365        272          272380  270189        74   \n",
      "\n",
      "                                       PROD_NAME  PROD_QTY  TOT_SALES  \n",
      "0         Natural Chip        Compny SeaSalt175g         2        6.0  \n",
      "1                       CCs Nacho Cheese    175g         3        6.3  \n",
      "2         Smiths Crinkle Cut  Chips Chicken 170g         2        2.9  \n",
      "3         Smiths Chip Thinly  S/Cream&Onion 175g         5       15.0  \n",
      "4       Kettle Tortilla ChpsHny&Jlpno Chili 150g         3       13.8  \n",
      "...                                          ...       ...        ...  \n",
      "264831   Kettle Sweet Chilli And Sour Cream 175g         2       10.8  \n",
      "264832             Tostitos Splash Of  Lime 175g         1        4.4  \n",
      "264833                  Doritos Mexicana    170g         2        8.8  \n",
      "264834   Doritos Corn Chip Mexican Jalapeno 150g         2        7.8  \n",
      "264835             Tostitos Splash Of  Lime 175g         2        8.8  \n",
      "\n",
      "[264836 rows x 8 columns]\n"
     ]
    }
   ],
   "source": [
    "df = pd.read_excel(r'/Users/nurpeissova/Downloads/QVI_transaction_data.xlsx')\n",
    "print(df)"
   ]
  },
  {
   "cell_type": "markdown",
   "id": "d74675ac",
   "metadata": {},
   "source": [
    "### Checking whether all columns are with correct data types.\n",
    "We see that date column is integer, we should convert it to date format.\n",
    "Now i'm creating a new dataframe with one column including date from our dataframe (converted from integer to date format, knowing that int format starts from 1899 december 30)"
   ]
  },
  {
   "cell_type": "code",
   "execution_count": null,
   "id": "64fd6719",
   "metadata": {},
   "outputs": [],
   "source": [
    "temp=pd.DataFrame(columns=['DATE'])\n",
    "\n",
    "for row in df['DATE']:\n",
    "    data= pd.to_datetime(datetime(1899,12,30) + timedelta(row)).strftime(\"%Y-%m-%d\")\n",
    "    \n",
    "    temp = temp.append({\"DATE\":data}, ignore_index=True)"
   ]
  },
  {
   "cell_type": "markdown",
   "id": "7cfb8303",
   "metadata": {},
   "source": [
    "#### Updating our Date column "
   ]
  },
  {
   "cell_type": "code",
   "execution_count": 140,
   "id": "b798a238",
   "metadata": {},
   "outputs": [
    {
     "data": {
      "text/html": [
       "<div>\n",
       "<style scoped>\n",
       "    .dataframe tbody tr th:only-of-type {\n",
       "        vertical-align: middle;\n",
       "    }\n",
       "\n",
       "    .dataframe tbody tr th {\n",
       "        vertical-align: top;\n",
       "    }\n",
       "\n",
       "    .dataframe thead th {\n",
       "        text-align: right;\n",
       "    }\n",
       "</style>\n",
       "<table border=\"1\" class=\"dataframe\">\n",
       "  <thead>\n",
       "    <tr style=\"text-align: right;\">\n",
       "      <th></th>\n",
       "      <th>DATE</th>\n",
       "      <th>STORE_NBR</th>\n",
       "      <th>LYLTY_CARD_NBR</th>\n",
       "      <th>TXN_ID</th>\n",
       "      <th>PROD_NBR</th>\n",
       "      <th>PROD_NAME</th>\n",
       "      <th>PROD_QTY</th>\n",
       "      <th>TOT_SALES</th>\n",
       "    </tr>\n",
       "  </thead>\n",
       "  <tbody>\n",
       "    <tr>\n",
       "      <th>0</th>\n",
       "      <td>2018-10-17</td>\n",
       "      <td>1</td>\n",
       "      <td>1000</td>\n",
       "      <td>1</td>\n",
       "      <td>5</td>\n",
       "      <td>Natural Chip        Compny SeaSalt175g</td>\n",
       "      <td>2</td>\n",
       "      <td>6.0</td>\n",
       "    </tr>\n",
       "    <tr>\n",
       "      <th>1</th>\n",
       "      <td>2019-05-14</td>\n",
       "      <td>1</td>\n",
       "      <td>1307</td>\n",
       "      <td>348</td>\n",
       "      <td>66</td>\n",
       "      <td>CCs Nacho Cheese    175g</td>\n",
       "      <td>3</td>\n",
       "      <td>6.3</td>\n",
       "    </tr>\n",
       "    <tr>\n",
       "      <th>2</th>\n",
       "      <td>2019-05-20</td>\n",
       "      <td>1</td>\n",
       "      <td>1343</td>\n",
       "      <td>383</td>\n",
       "      <td>61</td>\n",
       "      <td>Smiths Crinkle Cut  Chips Chicken 170g</td>\n",
       "      <td>2</td>\n",
       "      <td>2.9</td>\n",
       "    </tr>\n",
       "    <tr>\n",
       "      <th>3</th>\n",
       "      <td>2018-08-17</td>\n",
       "      <td>2</td>\n",
       "      <td>2373</td>\n",
       "      <td>974</td>\n",
       "      <td>69</td>\n",
       "      <td>Smiths Chip Thinly  S/Cream&amp;Onion 175g</td>\n",
       "      <td>5</td>\n",
       "      <td>15.0</td>\n",
       "    </tr>\n",
       "    <tr>\n",
       "      <th>4</th>\n",
       "      <td>2018-08-18</td>\n",
       "      <td>2</td>\n",
       "      <td>2426</td>\n",
       "      <td>1038</td>\n",
       "      <td>108</td>\n",
       "      <td>Kettle Tortilla ChpsHny&amp;Jlpno Chili 150g</td>\n",
       "      <td>3</td>\n",
       "      <td>13.8</td>\n",
       "    </tr>\n",
       "  </tbody>\n",
       "</table>\n",
       "</div>"
      ],
      "text/plain": [
       "         DATE  STORE_NBR  LYLTY_CARD_NBR  TXN_ID  PROD_NBR  \\\n",
       "0  2018-10-17          1            1000       1         5   \n",
       "1  2019-05-14          1            1307     348        66   \n",
       "2  2019-05-20          1            1343     383        61   \n",
       "3  2018-08-17          2            2373     974        69   \n",
       "4  2018-08-18          2            2426    1038       108   \n",
       "\n",
       "                                  PROD_NAME  PROD_QTY  TOT_SALES  \n",
       "0    Natural Chip        Compny SeaSalt175g         2        6.0  \n",
       "1                  CCs Nacho Cheese    175g         3        6.3  \n",
       "2    Smiths Crinkle Cut  Chips Chicken 170g         2        2.9  \n",
       "3    Smiths Chip Thinly  S/Cream&Onion 175g         5       15.0  \n",
       "4  Kettle Tortilla ChpsHny&Jlpno Chili 150g         3       13.8  "
      ]
     },
     "execution_count": 140,
     "metadata": {},
     "output_type": "execute_result"
    }
   ],
   "source": [
    "df['DATE']=temp['DATE']\n",
    "df.head()"
   ]
  },
  {
   "cell_type": "code",
   "execution_count": 143,
   "id": "2f69f398",
   "metadata": {},
   "outputs": [],
   "source": [
    "df['DATE']=pd.to_datetime(df[\"DATE\"], format=\"%Y/%m/%d\")"
   ]
  },
  {
   "cell_type": "code",
   "execution_count": 144,
   "id": "4d0a230f",
   "metadata": {},
   "outputs": [
    {
     "data": {
      "text/plain": [
       "DATE              datetime64[ns]\n",
       "STORE_NBR                  int64\n",
       "LYLTY_CARD_NBR             int64\n",
       "TXN_ID                     int64\n",
       "PROD_NBR                   int64\n",
       "PROD_NAME                 object\n",
       "PROD_QTY                   int64\n",
       "TOT_SALES                float64\n",
       "dtype: object"
      ]
     },
     "execution_count": 144,
     "metadata": {},
     "output_type": "execute_result"
    }
   ],
   "source": [
    "df.dtypes #now it's date format"
   ]
  },
  {
   "cell_type": "markdown",
   "id": "c4bddcff",
   "metadata": {},
   "source": [
    "### Missing /checking values\n",
    "#### Null values"
   ]
  },
  {
   "cell_type": "code",
   "execution_count": 145,
   "id": "25733350",
   "metadata": {},
   "outputs": [
    {
     "name": "stdout",
     "output_type": "stream",
     "text": [
      "DATE-0.0%\n",
      "STORE_NBR-0.0%\n",
      "LYLTY_CARD_NBR-0.0%\n",
      "TXN_ID-0.0%\n",
      "PROD_NBR-0.0%\n",
      "PROD_NAME-0.0%\n",
      "PROD_QTY-0.0%\n",
      "TOT_SALES-0.0%\n"
     ]
    }
   ],
   "source": [
    "for col in df.columns:\n",
    "    missing_values = np.mean (df[col].isnull())\n",
    "    print('{}-{}%'.format(col,missing_values))"
   ]
  },
  {
   "cell_type": "markdown",
   "id": "4eceaec7",
   "metadata": {},
   "source": [
    "All percents are 0, so we do not have missing values"
   ]
  },
  {
   "cell_type": "markdown",
   "id": "bdd5df19",
   "metadata": {},
   "source": [
    "#### Unwanted data\n",
    "Now we examine product if there are products except chips.\n",
    "We see there is salsa"
   ]
  },
  {
   "cell_type": "code",
   "execution_count": 150,
   "id": "94675221",
   "metadata": {},
   "outputs": [
    {
     "name": "stdout",
     "output_type": "stream",
     "text": [
      "['Natural Chip        Compny SeaSalt175g' 'CCs Nacho Cheese    175g'\n",
      " 'Smiths Crinkle Cut  Chips Chicken 170g'\n",
      " 'Smiths Chip Thinly  S/Cream&Onion 175g'\n",
      " 'Kettle Tortilla ChpsHny&Jlpno Chili 150g'\n",
      " 'Old El Paso Salsa   Dip Tomato Mild 300g'\n",
      " 'Smiths Crinkle Chips Salt & Vinegar 330g'\n",
      " 'Grain Waves         Sweet Chilli 210g'\n",
      " 'Doritos Corn Chip Mexican Jalapeno 150g'\n",
      " 'Grain Waves Sour    Cream&Chives 210G'\n",
      " 'Kettle Sensations   Siracha Lime 150g' 'Twisties Cheese     270g'\n",
      " 'WW Crinkle Cut      Chicken 175g' 'Thins Chips Light&  Tangy 175g'\n",
      " 'CCs Original 175g' 'Burger Rings 220g'\n",
      " 'NCC Sour Cream &    Garden Chives 175g'\n",
      " 'Doritos Corn Chip Southern Chicken 150g' 'Cheezels Cheese Box 125g'\n",
      " 'Smiths Crinkle      Original 330g'\n",
      " 'Infzns Crn Crnchers Tangy Gcamole 110g'\n",
      " 'Kettle Sea Salt     And Vinegar 175g'\n",
      " 'Smiths Chip Thinly  Cut Original 175g' 'Kettle Original 175g'\n",
      " 'Red Rock Deli Thai  Chilli&Lime 150g' 'Pringles Sthrn FriedChicken 134g'\n",
      " 'Pringles Sweet&Spcy BBQ 134g' 'Red Rock Deli SR    Salsa & Mzzrlla 150g'\n",
      " 'Thins Chips         Originl saltd 175g'\n",
      " 'Red Rock Deli Sp    Salt & Truffle 150G'\n",
      " 'Smiths Thinly       Swt Chli&S/Cream175G' 'Kettle Chilli 175g'\n",
      " 'Doritos Mexicana    170g' 'Smiths Crinkle Cut  French OnionDip 150g'\n",
      " 'Natural ChipCo      Hony Soy Chckn175g'\n",
      " 'Dorito Corn Chp     Supreme 380g' 'Twisties Chicken270g'\n",
      " 'Smiths Thinly Cut   Roast Chicken 175g'\n",
      " 'Smiths Crinkle Cut  Tomato Salsa 150g'\n",
      " 'Kettle Mozzarella   Basil & Pesto 175g'\n",
      " 'Infuzions Thai SweetChili PotatoMix 110g'\n",
      " 'Kettle Sensations   Camembert & Fig 150g'\n",
      " 'Smith Crinkle Cut   Mac N Cheese 150g'\n",
      " 'Kettle Honey Soy    Chicken 175g' 'Thins Chips Seasonedchicken 175g'\n",
      " 'Smiths Crinkle Cut  Salt & Vinegar 170g'\n",
      " 'Infuzions BBQ Rib   Prawn Crackers 110g'\n",
      " 'GrnWves Plus Btroot & Chilli Jam 180g'\n",
      " 'Tyrrells Crisps     Lightly Salted 165g'\n",
      " 'Kettle Sweet Chilli And Sour Cream 175g'\n",
      " 'Doritos Salsa       Medium 300g' 'Kettle 135g Swt Pot Sea Salt'\n",
      " 'Pringles SourCream  Onion 134g' 'Doritos Corn Chips  Original 170g'\n",
      " 'Twisties Cheese     Burger 250g'\n",
      " 'Old El Paso Salsa   Dip Chnky Tom Ht300g'\n",
      " 'Cobs Popd Swt/Chlli &Sr/Cream Chips 110g'\n",
      " 'Woolworths Mild     Salsa 300g'\n",
      " 'Natural Chip Co     Tmato Hrb&Spce 175g'\n",
      " 'Smiths Crinkle Cut  Chips Original 170g'\n",
      " 'Cobs Popd Sea Salt  Chips 110g'\n",
      " 'Smiths Crinkle Cut  Chips Chs&Onion170g'\n",
      " 'French Fries Potato Chips 175g'\n",
      " 'Old El Paso Salsa   Dip Tomato Med 300g'\n",
      " 'Doritos Corn Chips  Cheese Supreme 170g'\n",
      " 'Pringles Original   Crisps 134g' 'RRD Chilli&         Coconut 150g'\n",
      " 'WW Original Corn    Chips 200g' 'Thins Potato Chips  Hot & Spicy 175g'\n",
      " 'Cobs Popd Sour Crm  &Chives Chips 110g'\n",
      " 'Smiths Crnkle Chip  Orgnl Big Bag 380g'\n",
      " 'Doritos Corn Chips  Nacho Cheese 170g'\n",
      " 'Kettle Sensations   BBQ&Maple 150g' 'WW D/Style Chip     Sea Salt 200g'\n",
      " 'Pringles Chicken    Salt Crips 134g' 'WW Original Stacked Chips 160g'\n",
      " 'Smiths Chip Thinly  CutSalt/Vinegr175g' 'Cheezels Cheese 330g'\n",
      " 'Tostitos Lightly    Salted 175g' 'Thins Chips Salt &  Vinegar 175g'\n",
      " 'Smiths Crinkle Cut  Chips Barbecue 170g' 'Cheetos Puffs 165g'\n",
      " 'RRD Sweet Chilli &  Sour Cream 165g' 'WW Crinkle Cut      Original 175g'\n",
      " 'Tostitos Splash Of  Lime 175g' 'Woolworths Medium   Salsa 300g'\n",
      " 'Kettle Tortilla ChpsBtroot&Ricotta 150g' 'CCs Tasty Cheese    175g'\n",
      " 'Woolworths Cheese   Rings 190g' 'Tostitos Smoked     Chipotle 175g'\n",
      " 'Pringles Barbeque   134g' 'WW Supreme Cheese   Corn Chips 200g'\n",
      " 'Pringles Mystery    Flavour 134g'\n",
      " 'Tyrrells Crisps     Ched & Chives 165g'\n",
      " 'Snbts Whlgrn Crisps Cheddr&Mstrd 90g' 'Cheetos Chs & Bacon Balls 190g'\n",
      " 'Pringles Slt Vingar 134g' 'Infuzions SourCream&Herbs Veg Strws 110g'\n",
      " 'Kettle Tortilla ChpsFeta&Garlic 150g'\n",
      " 'Infuzions Mango     Chutny Papadums 70g'\n",
      " 'RRD Steak &         Chimuchurri 150g' 'RRD Honey Soy       Chicken 165g'\n",
      " 'Sunbites Whlegrn    Crisps Frch/Onin 90g' 'RRD Salt & Vinegar  165g'\n",
      " 'Doritos Cheese      Supreme 330g' 'Smiths Crinkle Cut  Snag&Sauce 150g'\n",
      " 'WW Sour Cream &OnionStacked Chips 160g' 'RRD Lime & Pepper   165g'\n",
      " 'Natural ChipCo Sea  Salt & Vinegr 175g'\n",
      " 'Red Rock Deli Chikn&Garlic Aioli 150g'\n",
      " 'RRD SR Slow Rst     Pork Belly 150g' 'RRD Pc Sea Salt     165g'\n",
      " 'Smith Crinkle Cut   Bolognese 150g' 'Doritos Salsa Mild  300g']\n"
     ]
    }
   ],
   "source": [
    "print(df[\"PROD_NAME\"].unique())"
   ]
  },
  {
   "cell_type": "code",
   "execution_count": 160,
   "id": "8ad06ea1",
   "metadata": {},
   "outputs": [],
   "source": [
    "df = df[ df[ 'PROD_NAME' ].str.contains( \"Salsa\" )==False]"
   ]
  },
  {
   "cell_type": "code",
   "execution_count": 181,
   "id": "f0076eae",
   "metadata": {},
   "outputs": [],
   "source": [
    "df= df.astype({'PROD_NAME':'string'})"
   ]
  },
  {
   "cell_type": "code",
   "execution_count": 183,
   "id": "bf82af65",
   "metadata": {},
   "outputs": [],
   "source": [
    "df['PROD_NAME'] = df['PROD_NAME'].str.replace('&','')\n",
    "df['PROD_NAME'] = df['PROD_NAME'].str.replace('/','')"
   ]
  },
  {
   "cell_type": "markdown",
   "id": "c4ea7a95",
   "metadata": {},
   "source": [
    "### Examining products\n",
    "#### - brand name and package size"
   ]
  },
  {
   "cell_type": "markdown",
   "id": "207610b6",
   "metadata": {},
   "source": [
    "I started to examine all products name and figured that there are some mistakes.\n",
    "I replaced some values so we have unique brands names without mistakes"
   ]
  },
  {
   "cell_type": "code",
   "execution_count": 544,
   "id": "fc93071e",
   "metadata": {},
   "outputs": [],
   "source": [
    "df.loc[df['PROD_NBR'] == 4, 'PROD_NAME'] = \"Doritos Corn Chp Supreme 380g\"\n",
    "df.loc[df['PROD_NBR'] == 105, 'PROD_NAME'] = \"WW Cheese Rings 190g\"\n",
    "df['PROD_NAME'] = df['PROD_NAME'].str.replace('Red Rock Deli','RRD')\n",
    "df['PROD_NAME'] = df['PROD_NAME'].str.replace('Infzns','RRDnfuzions')\n",
    "df.loc[df['PROD_NBR'] == 82, 'PROD_NAME'] = \"Smiths Crinkle Cut Mac N Cheese 150g\"\n",
    "df.loc[df['PROD_NBR'] == 43, 'PROD_NAME'] = \"Smiths Crinkle Cut Bolognese 150g\"\n",
    "df['PROD_NAME'] = df['PROD_NAME'].str.replace('Snbts','Sunbites')\n",
    "df['PROD_NAME'] = df['PROD_NAME'].str.replace('Grain Waves','Grain_Waves')\n",
    "df['PROD_NAME'] = df['PROD_NAME'].str.replace('GrnWves','Grain_Waves')\n",
    "df.loc[df['PROD_NBR'] == 5, 'PROD_NAME'] = \"NCC SeaSalt 175g\"\n",
    "df['PROD_NAME'] = df['PROD_NAME'].str.replace('Natural Chip Compny','NCC')\n",
    "df['PROD_NAME'] = df['PROD_NAME'].str.replace('Natural ChipCo','NCC')\n",
    "df['PROD_NAME'] = df['PROD_NAME'].str.replace('Natural Chip Co','NCC')"
   ]
  },
  {
   "cell_type": "code",
   "execution_count": 547,
   "id": "acc2dc52",
   "metadata": {},
   "outputs": [],
   "source": [
    "df['SIZE']=df['PROD_NAME'].str[-4:] #making size column\n",
    "df['SIZE'] = df['SIZE'].str.replace('g','')"
   ]
  },
  {
   "cell_type": "code",
   "execution_count": 551,
   "id": "2253bcfa",
   "metadata": {},
   "outputs": [],
   "source": [
    "df['BRAND']=df['PROD_NAME'].str.split(' ').str[0]"
   ]
  },
  {
   "cell_type": "code",
   "execution_count": 554,
   "id": "16df859f",
   "metadata": {},
   "outputs": [],
   "source": [
    "df['PROD_NAME']=df['PROD_NAME'].str[0:-4]"
   ]
  },
  {
   "cell_type": "code",
   "execution_count": 592,
   "id": "0cf1f8f2",
   "metadata": {},
   "outputs": [],
   "source": [
    "del df['PROD_NAME']"
   ]
  },
  {
   "cell_type": "code",
   "execution_count": 630,
   "id": "7ff7a122",
   "metadata": {},
   "outputs": [],
   "source": [
    "df_brand= pd.DataFrame(columns=['BRAND','FREQ','TOT_QTY','TOT_SALES'])"
   ]
  },
  {
   "cell_type": "code",
   "execution_count": 631,
   "id": "369057be",
   "metadata": {},
   "outputs": [],
   "source": [
    "df_brand['BRAND']=df['BRAND']\n",
    "df_brand['TOT_QTY']=df.groupby('BRAND')['PROD_QTY'].transform('sum')\n",
    "df_brand['TOT_SALES']=df.groupby('BRAND')['TOT_SALES'].transform('sum')\n",
    "df_brand['FREQ']=df.groupby('BRAND')['BRAND'].transform('count')"
   ]
  },
  {
   "cell_type": "code",
   "execution_count": 635,
   "id": "ae2122ea",
   "metadata": {},
   "outputs": [],
   "source": [
    "df_brand=df_brand.drop_duplicates()"
   ]
  },
  {
   "cell_type": "code",
   "execution_count": 636,
   "id": "9f2d660f",
   "metadata": {},
   "outputs": [
    {
     "data": {
      "text/html": [
       "<div>\n",
       "<style scoped>\n",
       "    .dataframe tbody tr th:only-of-type {\n",
       "        vertical-align: middle;\n",
       "    }\n",
       "\n",
       "    .dataframe tbody tr th {\n",
       "        vertical-align: top;\n",
       "    }\n",
       "\n",
       "    .dataframe thead th {\n",
       "        text-align: right;\n",
       "    }\n",
       "</style>\n",
       "<table border=\"1\" class=\"dataframe\">\n",
       "  <thead>\n",
       "    <tr style=\"text-align: right;\">\n",
       "      <th></th>\n",
       "      <th>BRAND</th>\n",
       "      <th>FREQ</th>\n",
       "      <th>TOT_QTY</th>\n",
       "      <th>TOT_SALES</th>\n",
       "    </tr>\n",
       "  </thead>\n",
       "  <tbody>\n",
       "    <tr>\n",
       "      <th>4</th>\n",
       "      <td>Kettle</td>\n",
       "      <td>41288</td>\n",
       "      <td>79051</td>\n",
       "      <td>390239.8</td>\n",
       "    </tr>\n",
       "    <tr>\n",
       "      <th>2</th>\n",
       "      <td>Smiths</td>\n",
       "      <td>30353</td>\n",
       "      <td>57582</td>\n",
       "      <td>217492.0</td>\n",
       "    </tr>\n",
       "  </tbody>\n",
       "</table>\n",
       "</div>"
      ],
      "text/plain": [
       "    BRAND   FREQ  TOT_QTY  TOT_SALES\n",
       "4  Kettle  41288    79051   390239.8\n",
       "2  Smiths  30353    57582   217492.0"
      ]
     },
     "execution_count": 636,
     "metadata": {},
     "output_type": "execute_result"
    }
   ],
   "source": [
    "df_brand_sorted=df_brand.sort_values('FREQ', ascending=False)\n",
    "df_brand_sorted.head(2)"
   ]
  },
  {
   "cell_type": "code",
   "execution_count": 637,
   "id": "46ebc72e",
   "metadata": {},
   "outputs": [
    {
     "data": {
      "text/html": [
       "<div>\n",
       "<style scoped>\n",
       "    .dataframe tbody tr th:only-of-type {\n",
       "        vertical-align: middle;\n",
       "    }\n",
       "\n",
       "    .dataframe tbody tr th {\n",
       "        vertical-align: top;\n",
       "    }\n",
       "\n",
       "    .dataframe thead th {\n",
       "        text-align: right;\n",
       "    }\n",
       "</style>\n",
       "<table border=\"1\" class=\"dataframe\">\n",
       "  <thead>\n",
       "    <tr style=\"text-align: right;\">\n",
       "      <th></th>\n",
       "      <th>BRAND</th>\n",
       "      <th>FREQ</th>\n",
       "      <th>TOT_QTY</th>\n",
       "      <th>TOT_SALES</th>\n",
       "    </tr>\n",
       "  </thead>\n",
       "  <tbody>\n",
       "    <tr>\n",
       "      <th>4</th>\n",
       "      <td>Kettle</td>\n",
       "      <td>41288</td>\n",
       "      <td>79051</td>\n",
       "      <td>390239.8</td>\n",
       "    </tr>\n",
       "    <tr>\n",
       "      <th>8</th>\n",
       "      <td>Doritos</td>\n",
       "      <td>25226</td>\n",
       "      <td>48731</td>\n",
       "      <td>227629.9</td>\n",
       "    </tr>\n",
       "  </tbody>\n",
       "</table>\n",
       "</div>"
      ],
      "text/plain": [
       "     BRAND   FREQ  TOT_QTY  TOT_SALES\n",
       "4   Kettle  41288    79051   390239.8\n",
       "8  Doritos  25226    48731   227629.9"
      ]
     },
     "execution_count": 637,
     "metadata": {},
     "output_type": "execute_result"
    }
   ],
   "source": [
    "df_brand_sorted2=df_brand.sort_values('TOT_SALES', ascending=False)\n",
    "df_brand_sorted2.head(2)"
   ]
  },
  {
   "cell_type": "markdown",
   "id": "f7e6f5e4",
   "metadata": {},
   "source": [
    "Top two that drequent bought are Kettle, Smiths and plus Doritos cause of his price it is on the second place by sales"
   ]
  },
  {
   "cell_type": "markdown",
   "id": "42636143",
   "metadata": {},
   "source": [
    "#### Maximum values \n",
    "Now we see the maximum amount of chips that customers buy at once"
   ]
  },
  {
   "cell_type": "code",
   "execution_count": 648,
   "id": "5b6c8444",
   "metadata": {},
   "outputs": [
    {
     "data": {
      "text/html": [
       "<div>\n",
       "<style scoped>\n",
       "    .dataframe tbody tr th:only-of-type {\n",
       "        vertical-align: middle;\n",
       "    }\n",
       "\n",
       "    .dataframe tbody tr th {\n",
       "        vertical-align: top;\n",
       "    }\n",
       "\n",
       "    .dataframe thead th {\n",
       "        text-align: right;\n",
       "    }\n",
       "</style>\n",
       "<table border=\"1\" class=\"dataframe\">\n",
       "  <thead>\n",
       "    <tr style=\"text-align: right;\">\n",
       "      <th></th>\n",
       "      <th>DATE</th>\n",
       "      <th>STORE_NBR</th>\n",
       "      <th>LYLTY_CARD_NBR</th>\n",
       "      <th>TXN_ID</th>\n",
       "      <th>PROD_NBR</th>\n",
       "      <th>PROD_QTY</th>\n",
       "      <th>TOT_SALES</th>\n",
       "      <th>SIZE</th>\n",
       "      <th>BRAND</th>\n",
       "    </tr>\n",
       "  </thead>\n",
       "  <tbody>\n",
       "    <tr>\n",
       "      <th>69762</th>\n",
       "      <td>2018-08-19</td>\n",
       "      <td>226</td>\n",
       "      <td>226000</td>\n",
       "      <td>226201</td>\n",
       "      <td>4</td>\n",
       "      <td>200</td>\n",
       "      <td>650.0</td>\n",
       "      <td>380</td>\n",
       "      <td>Doritos</td>\n",
       "    </tr>\n",
       "    <tr>\n",
       "      <th>69763</th>\n",
       "      <td>2019-05-20</td>\n",
       "      <td>226</td>\n",
       "      <td>226000</td>\n",
       "      <td>226210</td>\n",
       "      <td>4</td>\n",
       "      <td>200</td>\n",
       "      <td>650.0</td>\n",
       "      <td>380</td>\n",
       "      <td>Doritos</td>\n",
       "    </tr>\n",
       "  </tbody>\n",
       "</table>\n",
       "</div>"
      ],
      "text/plain": [
       "            DATE  STORE_NBR  LYLTY_CARD_NBR  TXN_ID  PROD_NBR  PROD_QTY  \\\n",
       "69762 2018-08-19        226          226000  226201         4       200   \n",
       "69763 2019-05-20        226          226000  226210         4       200   \n",
       "\n",
       "       TOT_SALES SIZE    BRAND  \n",
       "69762      650.0  380  Doritos  \n",
       "69763      650.0  380  Doritos  "
      ]
     },
     "execution_count": 648,
     "metadata": {},
     "output_type": "execute_result"
    }
   ],
   "source": [
    "df[df['PROD_QTY'] == df['PROD_QTY'].max()]"
   ]
  },
  {
   "cell_type": "markdown",
   "id": "868e6624",
   "metadata": {},
   "source": [
    "Once a year that customer bought 200 chips at once.\n",
    "let'see his other purchases"
   ]
  },
  {
   "cell_type": "code",
   "execution_count": 242,
   "id": "70dc3404",
   "metadata": {},
   "outputs": [
    {
     "data": {
      "text/html": [
       "<div>\n",
       "<style scoped>\n",
       "    .dataframe tbody tr th:only-of-type {\n",
       "        vertical-align: middle;\n",
       "    }\n",
       "\n",
       "    .dataframe tbody tr th {\n",
       "        vertical-align: top;\n",
       "    }\n",
       "\n",
       "    .dataframe thead th {\n",
       "        text-align: right;\n",
       "    }\n",
       "</style>\n",
       "<table border=\"1\" class=\"dataframe\">\n",
       "  <thead>\n",
       "    <tr style=\"text-align: right;\">\n",
       "      <th></th>\n",
       "      <th>DATE</th>\n",
       "      <th>STORE_NBR</th>\n",
       "      <th>LYLTY_CARD_NBR</th>\n",
       "      <th>TXN_ID</th>\n",
       "      <th>PROD_NBR</th>\n",
       "      <th>PROD_NAME</th>\n",
       "      <th>PROD_QTY</th>\n",
       "      <th>TOT_SALES</th>\n",
       "    </tr>\n",
       "  </thead>\n",
       "  <tbody>\n",
       "    <tr>\n",
       "      <th>69762</th>\n",
       "      <td>2018-08-19</td>\n",
       "      <td>226</td>\n",
       "      <td>226000</td>\n",
       "      <td>226201</td>\n",
       "      <td>4</td>\n",
       "      <td>Dorito Corn Chp     Supreme 380g</td>\n",
       "      <td>200</td>\n",
       "      <td>650.0</td>\n",
       "    </tr>\n",
       "    <tr>\n",
       "      <th>69763</th>\n",
       "      <td>2019-05-20</td>\n",
       "      <td>226</td>\n",
       "      <td>226000</td>\n",
       "      <td>226210</td>\n",
       "      <td>4</td>\n",
       "      <td>Dorito Corn Chp     Supreme 380g</td>\n",
       "      <td>200</td>\n",
       "      <td>650.0</td>\n",
       "    </tr>\n",
       "  </tbody>\n",
       "</table>\n",
       "</div>"
      ],
      "text/plain": [
       "            DATE  STORE_NBR  LYLTY_CARD_NBR  TXN_ID  PROD_NBR  \\\n",
       "69762 2018-08-19        226          226000  226201         4   \n",
       "69763 2019-05-20        226          226000  226210         4   \n",
       "\n",
       "                              PROD_NAME  PROD_QTY  TOT_SALES  \n",
       "69762  Dorito Corn Chp     Supreme 380g       200      650.0  \n",
       "69763  Dorito Corn Chp     Supreme 380g       200      650.0  "
      ]
     },
     "execution_count": 242,
     "metadata": {},
     "output_type": "execute_result"
    }
   ],
   "source": [
    "df[df.LYLTY_CARD_NBR == 226000]"
   ]
  },
  {
   "cell_type": "markdown",
   "id": "8bd85600",
   "metadata": {},
   "source": [
    "so this customer twice bought chips of prod_number of 4 with amount of 200 piesces at once. That's weird, he is making a party or buying it for re-sale. There is need to make analysis of this customer, whether there is possibility to make him a distributor of our products. "
   ]
  },
  {
   "cell_type": "markdown",
   "id": "0459ccf9",
   "metadata": {},
   "source": [
    "### Summary of Sales Frequency"
   ]
  },
  {
   "cell_type": "code",
   "execution_count": 217,
   "id": "87ec249a",
   "metadata": {},
   "outputs": [
    {
     "data": {
      "text/html": [
       "<div>\n",
       "<style scoped>\n",
       "    .dataframe tbody tr th:only-of-type {\n",
       "        vertical-align: middle;\n",
       "    }\n",
       "\n",
       "    .dataframe tbody tr th {\n",
       "        vertical-align: top;\n",
       "    }\n",
       "\n",
       "    .dataframe thead th {\n",
       "        text-align: right;\n",
       "    }\n",
       "</style>\n",
       "<table border=\"1\" class=\"dataframe\">\n",
       "  <thead>\n",
       "    <tr style=\"text-align: right;\">\n",
       "      <th></th>\n",
       "      <th>PROD_NBR</th>\n",
       "      <th>PROD_NAME</th>\n",
       "      <th>FREQ</th>\n",
       "      <th>TOT_QTY</th>\n",
       "      <th>TOT_SALE</th>\n",
       "    </tr>\n",
       "  </thead>\n",
       "  <tbody>\n",
       "  </tbody>\n",
       "</table>\n",
       "</div>"
      ],
      "text/plain": [
       "Empty DataFrame\n",
       "Columns: [PROD_NBR, PROD_NAME, FREQ, TOT_QTY, TOT_SALE]\n",
       "Index: []"
      ]
     },
     "execution_count": 217,
     "metadata": {},
     "output_type": "execute_result"
    }
   ],
   "source": [
    "df_occurence = pd.DataFrame(columns = ['PROD_NBR', 'PROD_NAME','FREQ','TOT_QTY','TOT_SALE'])\n",
    "df_occurence.head()"
   ]
  },
  {
   "cell_type": "code",
   "execution_count": 218,
   "id": "e6ba4538",
   "metadata": {},
   "outputs": [],
   "source": [
    "df_occurence['PROD_NBR'] = df['PROD_NBR'].unique()\n",
    "df_occurence['PROD_NAME']=df['PROD_NAME'].unique() "
   ]
  },
  {
   "cell_type": "code",
   "execution_count": 224,
   "id": "28ccd3df",
   "metadata": {},
   "outputs": [
    {
     "data": {
      "text/html": [
       "<div>\n",
       "<style scoped>\n",
       "    .dataframe tbody tr th:only-of-type {\n",
       "        vertical-align: middle;\n",
       "    }\n",
       "\n",
       "    .dataframe tbody tr th {\n",
       "        vertical-align: top;\n",
       "    }\n",
       "\n",
       "    .dataframe thead th {\n",
       "        text-align: right;\n",
       "    }\n",
       "</style>\n",
       "<table border=\"1\" class=\"dataframe\">\n",
       "  <thead>\n",
       "    <tr style=\"text-align: right;\">\n",
       "      <th></th>\n",
       "      <th>PROD_NBR</th>\n",
       "      <th>PROD_NAME</th>\n",
       "      <th>FREQ</th>\n",
       "      <th>TOT_QTY</th>\n",
       "      <th>TOT_SALE</th>\n",
       "    </tr>\n",
       "  </thead>\n",
       "  <tbody>\n",
       "    <tr>\n",
       "      <th>0</th>\n",
       "      <td>5</td>\n",
       "      <td>Natural Chip        Compny SeaSalt175g</td>\n",
       "      <td>1468.0</td>\n",
       "      <td>2777.0</td>\n",
       "      <td>8331.0</td>\n",
       "    </tr>\n",
       "    <tr>\n",
       "      <th>1</th>\n",
       "      <td>66</td>\n",
       "      <td>CCs Nacho Cheese    175g</td>\n",
       "      <td>1498.0</td>\n",
       "      <td>2839.0</td>\n",
       "      <td>5961.9</td>\n",
       "    </tr>\n",
       "    <tr>\n",
       "      <th>2</th>\n",
       "      <td>61</td>\n",
       "      <td>Smiths Crinkle Cut  Chips Chicken 170g</td>\n",
       "      <td>1484.0</td>\n",
       "      <td>2823.0</td>\n",
       "      <td>8183.8</td>\n",
       "    </tr>\n",
       "    <tr>\n",
       "      <th>3</th>\n",
       "      <td>69</td>\n",
       "      <td>Smiths Chip Thinly  SCream Onion 175g</td>\n",
       "      <td>1473.0</td>\n",
       "      <td>2771.0</td>\n",
       "      <td>8313.0</td>\n",
       "    </tr>\n",
       "    <tr>\n",
       "      <th>4</th>\n",
       "      <td>108</td>\n",
       "      <td>Kettle Tortilla ChpsHny Jlpno Chili 150g</td>\n",
       "      <td>3296.0</td>\n",
       "      <td>6309.0</td>\n",
       "      <td>29021.4</td>\n",
       "    </tr>\n",
       "  </tbody>\n",
       "</table>\n",
       "</div>"
      ],
      "text/plain": [
       "   PROD_NBR                                 PROD_NAME    FREQ  TOT_QTY  \\\n",
       "0         5    Natural Chip        Compny SeaSalt175g  1468.0   2777.0   \n",
       "1        66                  CCs Nacho Cheese    175g  1498.0   2839.0   \n",
       "2        61    Smiths Crinkle Cut  Chips Chicken 170g  1484.0   2823.0   \n",
       "3        69     Smiths Chip Thinly  SCream Onion 175g  1473.0   2771.0   \n",
       "4       108  Kettle Tortilla ChpsHny Jlpno Chili 150g  3296.0   6309.0   \n",
       "\n",
       "   TOT_SALE  \n",
       "0    8331.0  \n",
       "1    5961.9  \n",
       "2    8183.8  \n",
       "3    8313.0  \n",
       "4   29021.4  "
      ]
     },
     "execution_count": 224,
     "metadata": {},
     "output_type": "execute_result"
    }
   ],
   "source": [
    "df_occurence['FREQ']= df.groupby('PROD_NBR')['PROD_NAME'].transform('count')\n",
    "df_occurence['TOT_QTY']=df.groupby('PROD_NBR')['PROD_QTY'].transform('sum')\n",
    "df_occurence['TOT_SALE']=df.groupby('PROD_NBR')['TOT_SALES'].transform('sum')\n",
    "df_occurence.head()\n"
   ]
  },
  {
   "cell_type": "code",
   "execution_count": 232,
   "id": "122f7cc7",
   "metadata": {},
   "outputs": [],
   "source": [
    "df_sorted_freq = df_occurence.sort_values('FREQ', ascending = False)\n",
    "df_sorted_qty = df_occurence.sort_values('TOT_QTY', ascending = False)\n",
    "df_sorted_sales=df_occurence.sort_values('TOT_SALE', ascending = False)"
   ]
  },
  {
   "cell_type": "code",
   "execution_count": 233,
   "id": "80ca1150",
   "metadata": {},
   "outputs": [
    {
     "data": {
      "text/html": [
       "<div>\n",
       "<style scoped>\n",
       "    .dataframe tbody tr th:only-of-type {\n",
       "        vertical-align: middle;\n",
       "    }\n",
       "\n",
       "    .dataframe tbody tr th {\n",
       "        vertical-align: top;\n",
       "    }\n",
       "\n",
       "    .dataframe thead th {\n",
       "        text-align: right;\n",
       "    }\n",
       "</style>\n",
       "<table border=\"1\" class=\"dataframe\">\n",
       "  <thead>\n",
       "    <tr style=\"text-align: right;\">\n",
       "      <th></th>\n",
       "      <th>PROD_NBR</th>\n",
       "      <th>PROD_NAME</th>\n",
       "      <th>FREQ</th>\n",
       "      <th>TOT_QTY</th>\n",
       "      <th>TOT_SALE</th>\n",
       "    </tr>\n",
       "  </thead>\n",
       "  <tbody>\n",
       "    <tr>\n",
       "      <th>45</th>\n",
       "      <td>70</td>\n",
       "      <td>Tyrrells Crisps     Lightly Salted 165g</td>\n",
       "      <td>3304.0</td>\n",
       "      <td>6381.0</td>\n",
       "      <td>34457.4</td>\n",
       "    </tr>\n",
       "    <tr>\n",
       "      <th>24</th>\n",
       "      <td>99</td>\n",
       "      <td>Pringles Sthrn FriedChicken 134g</td>\n",
       "      <td>3296.0</td>\n",
       "      <td>6309.0</td>\n",
       "      <td>29021.4</td>\n",
       "    </tr>\n",
       "    <tr>\n",
       "      <th>4</th>\n",
       "      <td>108</td>\n",
       "      <td>Kettle Tortilla ChpsHny Jlpno Chili 150g</td>\n",
       "      <td>3296.0</td>\n",
       "      <td>6309.0</td>\n",
       "      <td>29021.4</td>\n",
       "    </tr>\n",
       "    <tr>\n",
       "      <th>58</th>\n",
       "      <td>81</td>\n",
       "      <td>Pringles Original   Crisps 134g</td>\n",
       "      <td>3296.0</td>\n",
       "      <td>6309.0</td>\n",
       "      <td>29021.4</td>\n",
       "    </tr>\n",
       "    <tr>\n",
       "      <th>98</th>\n",
       "      <td>21</td>\n",
       "      <td>WW Sour Cream  OnionStacked Chips 160g</td>\n",
       "      <td>3269.0</td>\n",
       "      <td>6256.0</td>\n",
       "      <td>23772.8</td>\n",
       "    </tr>\n",
       "    <tr>\n",
       "      <th>73</th>\n",
       "      <td>1</td>\n",
       "      <td>Smiths Crinkle Cut  Chips Barbecue 170g</td>\n",
       "      <td>3269.0</td>\n",
       "      <td>6256.0</td>\n",
       "      <td>23772.8</td>\n",
       "    </tr>\n",
       "    <tr>\n",
       "      <th>81</th>\n",
       "      <td>90</td>\n",
       "      <td>Tostitos Smoked     Chipotle 175g</td>\n",
       "      <td>3265.0</td>\n",
       "      <td>6277.0</td>\n",
       "      <td>23852.6</td>\n",
       "    </tr>\n",
       "  </tbody>\n",
       "</table>\n",
       "</div>"
      ],
      "text/plain": [
       "    PROD_NBR                                 PROD_NAME    FREQ  TOT_QTY  \\\n",
       "45        70   Tyrrells Crisps     Lightly Salted 165g  3304.0   6381.0   \n",
       "24        99          Pringles Sthrn FriedChicken 134g  3296.0   6309.0   \n",
       "4        108  Kettle Tortilla ChpsHny Jlpno Chili 150g  3296.0   6309.0   \n",
       "58        81           Pringles Original   Crisps 134g  3296.0   6309.0   \n",
       "98        21    WW Sour Cream  OnionStacked Chips 160g  3269.0   6256.0   \n",
       "73         1   Smiths Crinkle Cut  Chips Barbecue 170g  3269.0   6256.0   \n",
       "81        90         Tostitos Smoked     Chipotle 175g  3265.0   6277.0   \n",
       "\n",
       "    TOT_SALE  \n",
       "45   34457.4  \n",
       "24   29021.4  \n",
       "4    29021.4  \n",
       "58   29021.4  \n",
       "98   23772.8  \n",
       "73   23772.8  \n",
       "81   23852.6  "
      ]
     },
     "execution_count": 233,
     "metadata": {},
     "output_type": "execute_result"
    }
   ],
   "source": [
    "df_sorted_freq.head(7)"
   ]
  },
  {
   "cell_type": "code",
   "execution_count": 235,
   "id": "acbc7794",
   "metadata": {
    "scrolled": true
   },
   "outputs": [
    {
     "data": {
      "text/html": [
       "<div>\n",
       "<style scoped>\n",
       "    .dataframe tbody tr th:only-of-type {\n",
       "        vertical-align: middle;\n",
       "    }\n",
       "\n",
       "    .dataframe tbody tr th {\n",
       "        vertical-align: top;\n",
       "    }\n",
       "\n",
       "    .dataframe thead th {\n",
       "        text-align: right;\n",
       "    }\n",
       "</style>\n",
       "<table border=\"1\" class=\"dataframe\">\n",
       "  <thead>\n",
       "    <tr style=\"text-align: right;\">\n",
       "      <th></th>\n",
       "      <th>PROD_NBR</th>\n",
       "      <th>PROD_NAME</th>\n",
       "      <th>FREQ</th>\n",
       "      <th>TOT_QTY</th>\n",
       "      <th>TOT_SALE</th>\n",
       "    </tr>\n",
       "  </thead>\n",
       "  <tbody>\n",
       "    <tr>\n",
       "      <th>67</th>\n",
       "      <td>68</td>\n",
       "      <td>Pringles Chicken    Salt Crips 134g</td>\n",
       "      <td>3185.0</td>\n",
       "      <td>6509.0</td>\n",
       "      <td>40352.0</td>\n",
       "    </tr>\n",
       "    <tr>\n",
       "      <th>41</th>\n",
       "      <td>40</td>\n",
       "      <td>Thins Chips Seasonedchicken 175g</td>\n",
       "      <td>3185.0</td>\n",
       "      <td>6509.0</td>\n",
       "      <td>40352.0</td>\n",
       "    </tr>\n",
       "    <tr>\n",
       "      <th>101</th>\n",
       "      <td>58</td>\n",
       "      <td>Red Rock Deli Chikn Garlic Aioli 150g</td>\n",
       "      <td>3233.0</td>\n",
       "      <td>6164.0</td>\n",
       "      <td>36367.6</td>\n",
       "    </tr>\n",
       "    <tr>\n",
       "      <th>10</th>\n",
       "      <td>15</td>\n",
       "      <td>Twisties Cheese     270g</td>\n",
       "      <td>3197.0</td>\n",
       "      <td>6106.0</td>\n",
       "      <td>34804.2</td>\n",
       "    </tr>\n",
       "    <tr>\n",
       "      <th>6</th>\n",
       "      <td>24</td>\n",
       "      <td>Grain Waves         Sweet Chilli 210g</td>\n",
       "      <td>3197.0</td>\n",
       "      <td>6106.0</td>\n",
       "      <td>34804.2</td>\n",
       "    </tr>\n",
       "    <tr>\n",
       "      <th>45</th>\n",
       "      <td>70</td>\n",
       "      <td>Tyrrells Crisps     Lightly Salted 165g</td>\n",
       "      <td>3304.0</td>\n",
       "      <td>6381.0</td>\n",
       "      <td>34457.4</td>\n",
       "    </tr>\n",
       "    <tr>\n",
       "      <th>72</th>\n",
       "      <td>78</td>\n",
       "      <td>Thins Chips Salt    Vinegar 175g</td>\n",
       "      <td>3142.0</td>\n",
       "      <td>6018.0</td>\n",
       "      <td>34302.6</td>\n",
       "    </tr>\n",
       "  </tbody>\n",
       "</table>\n",
       "</div>"
      ],
      "text/plain": [
       "     PROD_NBR                                PROD_NAME    FREQ  TOT_QTY  \\\n",
       "67         68      Pringles Chicken    Salt Crips 134g  3185.0   6509.0   \n",
       "41         40         Thins Chips Seasonedchicken 175g  3185.0   6509.0   \n",
       "101        58    Red Rock Deli Chikn Garlic Aioli 150g  3233.0   6164.0   \n",
       "10         15                 Twisties Cheese     270g  3197.0   6106.0   \n",
       "6          24    Grain Waves         Sweet Chilli 210g  3197.0   6106.0   \n",
       "45         70  Tyrrells Crisps     Lightly Salted 165g  3304.0   6381.0   \n",
       "72         78         Thins Chips Salt    Vinegar 175g  3142.0   6018.0   \n",
       "\n",
       "     TOT_SALE  \n",
       "67    40352.0  \n",
       "41    40352.0  \n",
       "101   36367.6  \n",
       "10    34804.2  \n",
       "6     34804.2  \n",
       "45    34457.4  \n",
       "72    34302.6  "
      ]
     },
     "execution_count": 235,
     "metadata": {},
     "output_type": "execute_result"
    }
   ],
   "source": [
    "df_sorted_sales.head(7)"
   ]
  },
  {
   "cell_type": "markdown",
   "id": "cff5a3a5",
   "metadata": {},
   "source": [
    "We see that Tyrrels Crisps were saled frequently with total sales a little under 35K that is 6 place at big sales. Other frequent bought products make under 30k sales. "
   ]
  },
  {
   "cell_type": "markdown",
   "id": "e7f6aafe",
   "metadata": {},
   "source": [
    "### Summary by customers"
   ]
  },
  {
   "cell_type": "code",
   "execution_count": 275,
   "id": "d7a71ec3",
   "metadata": {},
   "outputs": [],
   "source": [
    "df_customers =pd.DataFrame(columns=['LYLTY_CARD_NBR', 'FREQ_PURC','TOT_SALE'])\n",
    "df_customers['LYLTY_CARD_NBR']=df['LYLTY_CARD_NBR']"
   ]
  },
  {
   "cell_type": "code",
   "execution_count": 277,
   "id": "5c1d881e",
   "metadata": {},
   "outputs": [],
   "source": [
    "df_customers['FREQ_PURC']=df.groupby('LYLTY_CARD_NBR')['LYLTY_CARD_NBR'].transform('count')"
   ]
  },
  {
   "cell_type": "code",
   "execution_count": 279,
   "id": "8f24fef8",
   "metadata": {},
   "outputs": [],
   "source": [
    "df_customers['TOT_SALE']=df.groupby('LYLTY_CARD_NBR')['TOT_SALES'].transform('sum')"
   ]
  },
  {
   "cell_type": "code",
   "execution_count": 297,
   "id": "6177f795",
   "metadata": {},
   "outputs": [],
   "source": [
    "df_customers=df_customers.drop_duplicates()"
   ]
  },
  {
   "cell_type": "code",
   "execution_count": 299,
   "id": "7740a34d",
   "metadata": {
    "scrolled": true
   },
   "outputs": [
    {
     "data": {
      "text/html": [
       "<div>\n",
       "<style scoped>\n",
       "    .dataframe tbody tr th:only-of-type {\n",
       "        vertical-align: middle;\n",
       "    }\n",
       "\n",
       "    .dataframe tbody tr th {\n",
       "        vertical-align: top;\n",
       "    }\n",
       "\n",
       "    .dataframe thead th {\n",
       "        text-align: right;\n",
       "    }\n",
       "</style>\n",
       "<table border=\"1\" class=\"dataframe\">\n",
       "  <thead>\n",
       "    <tr style=\"text-align: right;\">\n",
       "      <th></th>\n",
       "      <th>LYLTY_CARD_NBR</th>\n",
       "      <th>FREQ_PURC</th>\n",
       "      <th>TOT_SALE</th>\n",
       "    </tr>\n",
       "  </thead>\n",
       "  <tbody>\n",
       "    <tr>\n",
       "      <th>69762</th>\n",
       "      <td>226000</td>\n",
       "      <td>2</td>\n",
       "      <td>1300.0</td>\n",
       "    </tr>\n",
       "    <tr>\n",
       "      <th>32775</th>\n",
       "      <td>230078</td>\n",
       "      <td>17</td>\n",
       "      <td>138.6</td>\n",
       "    </tr>\n",
       "    <tr>\n",
       "      <th>189027</th>\n",
       "      <td>58361</td>\n",
       "      <td>14</td>\n",
       "      <td>124.8</td>\n",
       "    </tr>\n",
       "    <tr>\n",
       "      <th>32241</th>\n",
       "      <td>63197</td>\n",
       "      <td>14</td>\n",
       "      <td>122.6</td>\n",
       "    </tr>\n",
       "    <tr>\n",
       "      <th>64213</th>\n",
       "      <td>162039</td>\n",
       "      <td>17</td>\n",
       "      <td>121.6</td>\n",
       "    </tr>\n",
       "  </tbody>\n",
       "</table>\n",
       "</div>"
      ],
      "text/plain": [
       "        LYLTY_CARD_NBR  FREQ_PURC  TOT_SALE\n",
       "69762           226000          2    1300.0\n",
       "32775           230078         17     138.6\n",
       "189027           58361         14     124.8\n",
       "32241            63197         14     122.6\n",
       "64213           162039         17     121.6"
      ]
     },
     "execution_count": 299,
     "metadata": {},
     "output_type": "execute_result"
    }
   ],
   "source": [
    "df_customer_sort = df_customers.sort_values('TOT_SALE', ascending = False)\n",
    "df_customer_sort.head()"
   ]
  },
  {
   "cell_type": "markdown",
   "id": "b650b342",
   "metadata": {},
   "source": [
    "After the customer that buys 200 chips at once:) we have our top customer with loyalty number of 230078, he/she buys more and frequently."
   ]
  },
  {
   "cell_type": "markdown",
   "id": "962f3581",
   "metadata": {},
   "source": [
    "### Summary by date"
   ]
  },
  {
   "cell_type": "code",
   "execution_count": 432,
   "id": "9d4c1fee",
   "metadata": {},
   "outputs": [],
   "source": [
    "df_date = pd.DataFrame(columns=['DATE', 'TOT_SALE'])\n",
    "df_date['DATE']=df['DATE']"
   ]
  },
  {
   "cell_type": "code",
   "execution_count": 433,
   "id": "0a75dc79",
   "metadata": {},
   "outputs": [],
   "source": [
    "df_date['TOT_SALE']=df.groupby('DATE')['TOT_SALES'].transform('sum')"
   ]
  },
  {
   "cell_type": "code",
   "execution_count": 436,
   "id": "3aa0e9b4",
   "metadata": {},
   "outputs": [],
   "source": [
    "df_date=df_date.drop_duplicates()"
   ]
  },
  {
   "cell_type": "code",
   "execution_count": 649,
   "id": "22741e66",
   "metadata": {},
   "outputs": [
    {
     "name": "stdout",
     "output_type": "stream",
     "text": [
      "DATE        364\n",
      "TOT_SALE    364\n",
      "dtype: int64\n"
     ]
    }
   ],
   "source": [
    "print(df_date.count()) #missing one day"
   ]
  },
  {
   "cell_type": "code",
   "execution_count": 330,
   "id": "2a653692",
   "metadata": {},
   "outputs": [
    {
     "name": "stdout",
     "output_type": "stream",
     "text": [
      "DatetimeIndex(['2018-12-25'], dtype='datetime64[ns]', freq=None)\n"
     ]
    }
   ],
   "source": [
    "print(pd.date_range(start=\"2018-07-01\", end=\"2019-06-30\").difference(df_date.index))"
   ]
  },
  {
   "cell_type": "markdown",
   "id": "661efef5",
   "metadata": {},
   "source": [
    "#### The 25th of December is Christmas day, noone bought any chips"
   ]
  },
  {
   "cell_type": "code",
   "execution_count": 438,
   "id": "9b437370",
   "metadata": {},
   "outputs": [],
   "source": [
    "df_date=df_date.sort_values('DATE',ascending=True)"
   ]
  },
  {
   "cell_type": "code",
   "execution_count": 463,
   "id": "7739cb50",
   "metadata": {},
   "outputs": [],
   "source": [
    "df_date_month=df_date"
   ]
  },
  {
   "cell_type": "code",
   "execution_count": 466,
   "id": "dd405652",
   "metadata": {},
   "outputs": [],
   "source": [
    "df_date_month['DATE'] = pd.to_datetime(df['DATE']).dt.strftime('%Y-%m')"
   ]
  },
  {
   "cell_type": "code",
   "execution_count": 469,
   "id": "0206cf53",
   "metadata": {},
   "outputs": [],
   "source": [
    "df_date_month_temp = pd.DataFrame(columns=['DATE', 'SALES'])"
   ]
  },
  {
   "cell_type": "code",
   "execution_count": 470,
   "id": "6436da1b",
   "metadata": {},
   "outputs": [],
   "source": [
    "df_date_month_temp['DATE']=df_date_month['DATE']"
   ]
  },
  {
   "cell_type": "code",
   "execution_count": 471,
   "id": "1aeeafe1",
   "metadata": {},
   "outputs": [],
   "source": [
    "df_date_month_temp['SALES'] = df_date_month.groupby('DATE')['TOT_SALE'].transform('sum')"
   ]
  },
  {
   "cell_type": "code",
   "execution_count": 474,
   "id": "e2665e0a",
   "metadata": {},
   "outputs": [],
   "source": [
    "df_date_month = df_date_month_temp.drop_duplicates()"
   ]
  },
  {
   "cell_type": "code",
   "execution_count": 475,
   "id": "e44156b4",
   "metadata": {},
   "outputs": [
    {
     "data": {
      "image/png": "[encoded data removed]",
      "text/plain": [
       "<Figure size 1000x1000 with 1 Axes>"
      ]
     },
     "metadata": {},
     "output_type": "display_data"
    }
   ],
   "source": [
    "fig, ax = plt.subplots(figsize=(10, 10))\n",
    "\n",
    "ax.plot(df_date_month['DATE'],\n",
    "        df_date_month['SALES'],\n",
    "        color='purple')\n",
    "\n",
    "ax.set(xlabel=\"Date\",\n",
    "       ylabel=\"Sales\",\n",
    "       title=\"Sales per date from July 2018 untill June of 2019\")\n",
    "\n",
    "\n",
    "plt.show()"
   ]
  },
  {
   "cell_type": "markdown",
   "id": "c0218020",
   "metadata": {},
   "source": [
    "#### We see that in December there is a big increase due to Christmas days and New Year holidays. But then untill february there was a breakdown, so after Christmas."
   ]
  },
  {
   "cell_type": "markdown",
   "id": "3f669a79",
   "metadata": {},
   "source": [
    "## Customer data"
   ]
  },
  {
   "cell_type": "code",
   "execution_count": 652,
   "id": "0d057d1d",
   "metadata": {},
   "outputs": [],
   "source": [
    "df_temp = pd.read_excel(r'/Users/nurpeissova/Downloads/Purchase behaviour.xlsx')"
   ]
  },
  {
   "cell_type": "code",
   "execution_count": 664,
   "id": "d1f7f6d9",
   "metadata": {},
   "outputs": [],
   "source": [
    "df_customer= df_temp['LYLTY_CARD_NBR,LIFESTAGE,PREMIUM_CUSTOMER'].str.split(',', expand=True)"
   ]
  },
  {
   "cell_type": "code",
   "execution_count": 665,
   "id": "e96112e2",
   "metadata": {},
   "outputs": [],
   "source": [
    "df_customer.columns =['LYLTY_CARD_NBR','LIFESTAGE','PREMIUM_CUSTOMER']"
   ]
  },
  {
   "cell_type": "markdown",
   "id": "44b18843",
   "metadata": {},
   "source": [
    "### Checking data types and changing it"
   ]
  },
  {
   "cell_type": "code",
   "execution_count": 667,
   "id": "99469be0",
   "metadata": {},
   "outputs": [
    {
     "data": {
      "text/plain": [
       "LYLTY_CARD_NBR      object\n",
       "LIFESTAGE           object\n",
       "PREMIUM_CUSTOMER    object\n",
       "dtype: object"
      ]
     },
     "execution_count": 667,
     "metadata": {},
     "output_type": "execute_result"
    }
   ],
   "source": [
    "df_customer.dtypes"
   ]
  },
  {
   "cell_type": "code",
   "execution_count": 668,
   "id": "794d7cc1",
   "metadata": {},
   "outputs": [],
   "source": [
    "df_customer['LYLTY_CARD_NBR']=df_customer['LYLTY_CARD_NBR'].astype('int64')\n",
    "df_customer['LIFESTAGE']=df_customer['LIFESTAGE'].astype('string')\n",
    "df_customer['PREMIUM_CUSTOMER']=df_customer['PREMIUM_CUSTOMER'].astype('string')"
   ]
  },
  {
   "cell_type": "code",
   "execution_count": 669,
   "id": "fd2c33a3",
   "metadata": {},
   "outputs": [
    {
     "data": {
      "text/plain": [
       "LYLTY_CARD_NBR       int64\n",
       "LIFESTAGE           string\n",
       "PREMIUM_CUSTOMER    string\n",
       "dtype: object"
      ]
     },
     "execution_count": 669,
     "metadata": {},
     "output_type": "execute_result"
    }
   ],
   "source": [
    "df_customer.dtypes"
   ]
  },
  {
   "cell_type": "markdown",
   "id": "c41836c8",
   "metadata": {},
   "source": [
    "### Summary of customers, how many there are premium , family-person customers"
   ]
  },
  {
   "cell_type": "code",
   "execution_count": 675,
   "id": "3a2bab0d",
   "metadata": {},
   "outputs": [
    {
     "data": {
      "text/html": [
       "<div>\n",
       "<style scoped>\n",
       "    .dataframe tbody tr th:only-of-type {\n",
       "        vertical-align: middle;\n",
       "    }\n",
       "\n",
       "    .dataframe tbody tr th {\n",
       "        vertical-align: top;\n",
       "    }\n",
       "\n",
       "    .dataframe thead th {\n",
       "        text-align: right;\n",
       "    }\n",
       "</style>\n",
       "<table border=\"1\" class=\"dataframe\">\n",
       "  <thead>\n",
       "    <tr style=\"text-align: right;\">\n",
       "      <th></th>\n",
       "      <th>LIFESTAGE</th>\n",
       "      <th>TOT_NBR</th>\n",
       "    </tr>\n",
       "  </thead>\n",
       "  <tbody>\n",
       "    <tr>\n",
       "      <th>10</th>\n",
       "      <td>RETIREES</td>\n",
       "      <td>14805</td>\n",
       "    </tr>\n",
       "    <tr>\n",
       "      <th>3</th>\n",
       "      <td>OLDER SINGLES/COUPLES</td>\n",
       "      <td>14609</td>\n",
       "    </tr>\n",
       "    <tr>\n",
       "      <th>0</th>\n",
       "      <td>YOUNG SINGLES/COUPLES</td>\n",
       "      <td>14441</td>\n",
       "    </tr>\n",
       "    <tr>\n",
       "      <th>9</th>\n",
       "      <td>OLDER FAMILIES</td>\n",
       "      <td>9780</td>\n",
       "    </tr>\n",
       "    <tr>\n",
       "      <th>2</th>\n",
       "      <td>YOUNG FAMILIES</td>\n",
       "      <td>9178</td>\n",
       "    </tr>\n",
       "    <tr>\n",
       "      <th>4</th>\n",
       "      <td>MIDAGE SINGLES/COUPLES</td>\n",
       "      <td>7275</td>\n",
       "    </tr>\n",
       "    <tr>\n",
       "      <th>6</th>\n",
       "      <td>NEW FAMILIES</td>\n",
       "      <td>2549</td>\n",
       "    </tr>\n",
       "  </tbody>\n",
       "</table>\n",
       "</div>"
      ],
      "text/plain": [
       "                 LIFESTAGE  TOT_NBR\n",
       "10                RETIREES    14805\n",
       "3    OLDER SINGLES/COUPLES    14609\n",
       "0    YOUNG SINGLES/COUPLES    14441\n",
       "9           OLDER FAMILIES     9780\n",
       "2           YOUNG FAMILIES     9178\n",
       "4   MIDAGE SINGLES/COUPLES     7275\n",
       "6             NEW FAMILIES     2549"
      ]
     },
     "execution_count": 675,
     "metadata": {},
     "output_type": "execute_result"
    }
   ],
   "source": [
    "df_lifestage = pd.DataFrame(columns=['LIFESTAGE', 'TOT_NBR'])\n",
    "df_lifestage['LIFESTAGE']=df_customer['LIFESTAGE']\n",
    "df_lifestage['TOT_NBR']=df_customer.groupby('LIFESTAGE')['LIFESTAGE'].transform('count')\n",
    "df_lifestage=df_lifestage.drop_duplicates()\n",
    "df_lifestage=df_lifestage.sort_values('TOT_NBR', ascending=False)\n",
    "df_lifestage"
   ]
  },
  {
   "cell_type": "markdown",
   "id": "94c66488",
   "metadata": {},
   "source": [
    "What we see that the maximum amount of customers are retirees and the minimum ones are new families"
   ]
  },
  {
   "cell_type": "code",
   "execution_count": 681,
   "id": "da533b17",
   "metadata": {},
   "outputs": [
    {
     "data": {
      "text/html": [
       "<div>\n",
       "<style scoped>\n",
       "    .dataframe tbody tr th:only-of-type {\n",
       "        vertical-align: middle;\n",
       "    }\n",
       "\n",
       "    .dataframe tbody tr th {\n",
       "        vertical-align: top;\n",
       "    }\n",
       "\n",
       "    .dataframe thead th {\n",
       "        text-align: right;\n",
       "    }\n",
       "</style>\n",
       "<table border=\"1\" class=\"dataframe\">\n",
       "  <thead>\n",
       "    <tr style=\"text-align: right;\">\n",
       "      <th></th>\n",
       "      <th>PREMIUM</th>\n",
       "      <th>TOT_NBR</th>\n",
       "      <th>PERCENT</th>\n",
       "    </tr>\n",
       "  </thead>\n",
       "  <tbody>\n",
       "    <tr>\n",
       "      <th>1</th>\n",
       "      <td>Mainstream</td>\n",
       "      <td>29245</td>\n",
       "      <td>40.26</td>\n",
       "    </tr>\n",
       "    <tr>\n",
       "      <th>2</th>\n",
       "      <td>Budget</td>\n",
       "      <td>24470</td>\n",
       "      <td>33.69</td>\n",
       "    </tr>\n",
       "    <tr>\n",
       "      <th>0</th>\n",
       "      <td>Premium</td>\n",
       "      <td>18922</td>\n",
       "      <td>26.05</td>\n",
       "    </tr>\n",
       "  </tbody>\n",
       "</table>\n",
       "</div>"
      ],
      "text/plain": [
       "      PREMIUM  TOT_NBR  PERCENT\n",
       "1  Mainstream    29245    40.26\n",
       "2      Budget    24470    33.69\n",
       "0     Premium    18922    26.05"
      ]
     },
     "execution_count": 681,
     "metadata": {},
     "output_type": "execute_result"
    }
   ],
   "source": [
    "df_premium = pd.DataFrame(columns=['PREMIUM', 'TOT_NBR'])\n",
    "df_premium['PREMIUM']=df_customer['PREMIUM_CUSTOMER']\n",
    "df_premium['TOT_NBR']=df_customer.groupby('PREMIUM_CUSTOMER')['PREMIUM_CUSTOMER'].transform('count')\n",
    "df_premium=df_premium.drop_duplicates()\n",
    "df_premium=df_premium.sort_values('TOT_NBR', ascending=False)\n",
    "df_premium['PERCENT']=((df_premium['TOT_NBR']/df_premium['TOT_NBR'].sum())*100).round(2)\n",
    "df_premium"
   ]
  },
  {
   "cell_type": "markdown",
   "id": "2af7a7a6",
   "metadata": {},
   "source": [
    "Mainstream dominates, Budget is the one third of total and Premium customers are less"
   ]
  },
  {
   "cell_type": "markdown",
   "id": "39b2054e",
   "metadata": {},
   "source": [
    "## Merging two data: transaction and customer"
   ]
  },
  {
   "cell_type": "markdown",
   "id": "63477162",
   "metadata": {},
   "source": [
    "#### Merging process"
   ]
  },
  {
   "cell_type": "code",
   "execution_count": 684,
   "id": "9f070812",
   "metadata": {},
   "outputs": [],
   "source": [
    "df_result = pd.merge(df, df_customer, on=[\"LYLTY_CARD_NBR\", \"LYLTY_CARD_NBR\"])"
   ]
  },
  {
   "cell_type": "code",
   "execution_count": 686,
   "id": "51d5a02b",
   "metadata": {},
   "outputs": [
    {
     "data": {
      "text/html": [
       "<div>\n",
       "<style scoped>\n",
       "    .dataframe tbody tr th:only-of-type {\n",
       "        vertical-align: middle;\n",
       "    }\n",
       "\n",
       "    .dataframe tbody tr th {\n",
       "        vertical-align: top;\n",
       "    }\n",
       "\n",
       "    .dataframe thead th {\n",
       "        text-align: right;\n",
       "    }\n",
       "</style>\n",
       "<table border=\"1\" class=\"dataframe\">\n",
       "  <thead>\n",
       "    <tr style=\"text-align: right;\">\n",
       "      <th></th>\n",
       "      <th>DATE</th>\n",
       "      <th>STORE_NBR</th>\n",
       "      <th>LYLTY_CARD_NBR</th>\n",
       "      <th>TXN_ID</th>\n",
       "      <th>PROD_NBR</th>\n",
       "      <th>PROD_QTY</th>\n",
       "      <th>TOT_SALES</th>\n",
       "      <th>SIZE</th>\n",
       "      <th>BRAND</th>\n",
       "      <th>LIFESTAGE</th>\n",
       "      <th>PREMIUM_CUSTOMER</th>\n",
       "    </tr>\n",
       "  </thead>\n",
       "  <tbody>\n",
       "    <tr>\n",
       "      <th>0</th>\n",
       "      <td>2018-10-17</td>\n",
       "      <td>1</td>\n",
       "      <td>1000</td>\n",
       "      <td>1</td>\n",
       "      <td>5</td>\n",
       "      <td>2</td>\n",
       "      <td>6.0</td>\n",
       "      <td>175</td>\n",
       "      <td>NCC</td>\n",
       "      <td>YOUNG SINGLES/COUPLES</td>\n",
       "      <td>Premium</td>\n",
       "    </tr>\n",
       "    <tr>\n",
       "      <th>1</th>\n",
       "      <td>2019-05-14</td>\n",
       "      <td>1</td>\n",
       "      <td>1307</td>\n",
       "      <td>348</td>\n",
       "      <td>66</td>\n",
       "      <td>3</td>\n",
       "      <td>6.3</td>\n",
       "      <td>175</td>\n",
       "      <td>CCs</td>\n",
       "      <td>MIDAGE SINGLES/COUPLES</td>\n",
       "      <td>Budget</td>\n",
       "    </tr>\n",
       "  </tbody>\n",
       "</table>\n",
       "</div>"
      ],
      "text/plain": [
       "        DATE  STORE_NBR  LYLTY_CARD_NBR  TXN_ID  PROD_NBR  PROD_QTY  \\\n",
       "0 2018-10-17          1            1000       1         5         2   \n",
       "1 2019-05-14          1            1307     348        66         3   \n",
       "\n",
       "   TOT_SALES SIZE BRAND               LIFESTAGE PREMIUM_CUSTOMER  \n",
       "0        6.0  175   NCC   YOUNG SINGLES/COUPLES          Premium  \n",
       "1        6.3  175   CCs  MIDAGE SINGLES/COUPLES           Budget  "
      ]
     },
     "execution_count": 686,
     "metadata": {},
     "output_type": "execute_result"
    }
   ],
   "source": [
    "df_result.head(2)"
   ]
  },
  {
   "cell_type": "markdown",
   "id": "66cc2c69",
   "metadata": {},
   "source": [
    "#### Missing values"
   ]
  },
  {
   "cell_type": "code",
   "execution_count": 687,
   "id": "fdacb0f1",
   "metadata": {},
   "outputs": [
    {
     "name": "stdout",
     "output_type": "stream",
     "text": [
      "DATE-0.0%\n",
      "STORE_NBR-0.0%\n",
      "LYLTY_CARD_NBR-0.0%\n",
      "TXN_ID-0.0%\n",
      "PROD_NBR-0.0%\n",
      "PROD_QTY-0.0%\n",
      "TOT_SALES-0.0%\n",
      "SIZE-0.0%\n",
      "BRAND-0.0%\n",
      "LIFESTAGE-0.0%\n",
      "PREMIUM_CUSTOMER-0.0%\n"
     ]
    }
   ],
   "source": [
    "for col in df_result.columns:\n",
    "    missing_values = np.mean (df_result[col].isnull())\n",
    "    print('{}-{}%'.format(col,missing_values))"
   ]
  },
  {
   "cell_type": "markdown",
   "id": "a94f83a9",
   "metadata": {},
   "source": [
    "Good sign! that we do not have missing values and everything is merged"
   ]
  },
  {
   "cell_type": "markdown",
   "id": "8162547f",
   "metadata": {},
   "source": [
    "### Analysis of customers"
   ]
  },
  {
   "cell_type": "markdown",
   "id": "f59e5b80",
   "metadata": {},
   "source": [
    "#### Customers by lifestage"
   ]
  },
  {
   "cell_type": "code",
   "execution_count": 702,
   "id": "6357f0cb",
   "metadata": {},
   "outputs": [],
   "source": [
    "df_result = df_result.drop_duplicates()"
   ]
  },
  {
   "cell_type": "code",
   "execution_count": 692,
   "id": "3abecbe1",
   "metadata": {},
   "outputs": [
    {
     "data": {
      "text/html": [
       "<div>\n",
       "<style scoped>\n",
       "    .dataframe tbody tr th:only-of-type {\n",
       "        vertical-align: middle;\n",
       "    }\n",
       "\n",
       "    .dataframe tbody tr th {\n",
       "        vertical-align: top;\n",
       "    }\n",
       "\n",
       "    .dataframe thead th {\n",
       "        text-align: right;\n",
       "    }\n",
       "</style>\n",
       "<table border=\"1\" class=\"dataframe\">\n",
       "  <thead>\n",
       "    <tr style=\"text-align: right;\">\n",
       "      <th></th>\n",
       "      <th>DATE</th>\n",
       "      <th>STORE_NBR</th>\n",
       "      <th>LYLTY_CARD_NBR</th>\n",
       "      <th>TXN_ID</th>\n",
       "      <th>PROD_NBR</th>\n",
       "      <th>PROD_QTY</th>\n",
       "      <th>TOT_SALES</th>\n",
       "      <th>SIZE</th>\n",
       "      <th>BRAND</th>\n",
       "      <th>LIFESTAGE</th>\n",
       "      <th>PREMIUM_CUSTOMER</th>\n",
       "    </tr>\n",
       "  </thead>\n",
       "  <tbody>\n",
       "    <tr>\n",
       "      <th>0</th>\n",
       "      <td>2018-10-17</td>\n",
       "      <td>1</td>\n",
       "      <td>1000</td>\n",
       "      <td>1</td>\n",
       "      <td>5</td>\n",
       "      <td>2</td>\n",
       "      <td>6.0</td>\n",
       "      <td>175</td>\n",
       "      <td>NCC</td>\n",
       "      <td>YOUNG SINGLES/COUPLES</td>\n",
       "      <td>Premium</td>\n",
       "    </tr>\n",
       "  </tbody>\n",
       "</table>\n",
       "</div>"
      ],
      "text/plain": [
       "        DATE  STORE_NBR  LYLTY_CARD_NBR  TXN_ID  PROD_NBR  PROD_QTY  \\\n",
       "0 2018-10-17          1            1000       1         5         2   \n",
       "\n",
       "   TOT_SALES SIZE BRAND              LIFESTAGE PREMIUM_CUSTOMER  \n",
       "0        6.0  175   NCC  YOUNG SINGLES/COUPLES          Premium  "
      ]
     },
     "execution_count": 692,
     "metadata": {},
     "output_type": "execute_result"
    }
   ],
   "source": [
    "df_result.head(1)"
   ]
  },
  {
   "cell_type": "code",
   "execution_count": 709,
   "id": "7b4fa6eb",
   "metadata": {},
   "outputs": [],
   "source": [
    "df_lifestage_res = pd.DataFrame(columns=['LIFESTAGE', 'TOT_NBR', 'TOT_QTY','TOT_SALES' ])"
   ]
  },
  {
   "cell_type": "code",
   "execution_count": 710,
   "id": "7ef7c28e",
   "metadata": {},
   "outputs": [],
   "source": [
    "df_lifestage_res['LIFESTAGE']=df_result['LIFESTAGE'].astype('string')"
   ]
  },
  {
   "cell_type": "code",
   "execution_count": 712,
   "id": "4e0e3496",
   "metadata": {},
   "outputs": [],
   "source": [
    "df_lifestage_res['TOT_NBR']=df_result.groupby('LIFESTAGE')['LIFESTAGE'].transform('count')"
   ]
  },
  {
   "cell_type": "code",
   "execution_count": 714,
   "id": "dea4898c",
   "metadata": {},
   "outputs": [],
   "source": [
    "df_lifestage_res['TOT_QTY']=df_result.groupby('LIFESTAGE')['PROD_QTY'].transform('sum')"
   ]
  },
  {
   "cell_type": "code",
   "execution_count": 716,
   "id": "ffa84b24",
   "metadata": {},
   "outputs": [],
   "source": [
    "df_lifestage_res['TOT_SALES']=df_result.groupby('LIFESTAGE')['TOT_SALES'].transform('sum')"
   ]
  },
  {
   "cell_type": "code",
   "execution_count": 718,
   "id": "66d3ec2b",
   "metadata": {},
   "outputs": [],
   "source": [
    "df_lifestage_res = df_lifestage_res.drop_duplicates()"
   ]
  },
  {
   "cell_type": "code",
   "execution_count": 724,
   "id": "2238cd57",
   "metadata": {},
   "outputs": [
    {
     "data": {
      "text/html": [
       "<div>\n",
       "<style scoped>\n",
       "    .dataframe tbody tr th:only-of-type {\n",
       "        vertical-align: middle;\n",
       "    }\n",
       "\n",
       "    .dataframe tbody tr th {\n",
       "        vertical-align: top;\n",
       "    }\n",
       "\n",
       "    .dataframe thead th {\n",
       "        text-align: right;\n",
       "    }\n",
       "</style>\n",
       "<table border=\"1\" class=\"dataframe\">\n",
       "  <thead>\n",
       "    <tr style=\"text-align: right;\">\n",
       "      <th></th>\n",
       "      <th>LIFESTAGE</th>\n",
       "      <th>TOT_NBR</th>\n",
       "      <th>TOT_QTY</th>\n",
       "      <th>TOT_SALES</th>\n",
       "      <th>PERCENT</th>\n",
       "      <th>PERCENT of QTY</th>\n",
       "    </tr>\n",
       "  </thead>\n",
       "  <tbody>\n",
       "    <tr>\n",
       "      <th>75056</th>\n",
       "      <td>OLDER SINGLES/COUPLES</td>\n",
       "      <td>50792</td>\n",
       "      <td>97183</td>\n",
       "      <td>376013.65</td>\n",
       "      <td>20.64</td>\n",
       "      <td>20.64</td>\n",
       "    </tr>\n",
       "    <tr>\n",
       "      <th>125849</th>\n",
       "      <td>RETIREES</td>\n",
       "      <td>46431</td>\n",
       "      <td>87875</td>\n",
       "      <td>342381.90</td>\n",
       "      <td>18.67</td>\n",
       "      <td>18.67</td>\n",
       "    </tr>\n",
       "    <tr>\n",
       "      <th>29896</th>\n",
       "      <td>OLDER FAMILIES</td>\n",
       "      <td>45160</td>\n",
       "      <td>88296</td>\n",
       "      <td>329819.90</td>\n",
       "      <td>18.75</td>\n",
       "      <td>18.75</td>\n",
       "    </tr>\n",
       "    <tr>\n",
       "      <th>172280</th>\n",
       "      <td>YOUNG FAMILIES</td>\n",
       "      <td>40494</td>\n",
       "      <td>78577</td>\n",
       "      <td>294627.90</td>\n",
       "      <td>16.69</td>\n",
       "      <td>16.69</td>\n",
       "    </tr>\n",
       "    <tr>\n",
       "      <th>0</th>\n",
       "      <td>YOUNG SINGLES/COUPLES</td>\n",
       "      <td>33969</td>\n",
       "      <td>62300</td>\n",
       "      <td>243756.60</td>\n",
       "      <td>13.23</td>\n",
       "      <td>13.23</td>\n",
       "    </tr>\n",
       "    <tr>\n",
       "      <th>1</th>\n",
       "      <td>MIDAGE SINGLES/COUPLES</td>\n",
       "      <td>23398</td>\n",
       "      <td>44496</td>\n",
       "      <td>172523.80</td>\n",
       "      <td>9.45</td>\n",
       "      <td>9.45</td>\n",
       "    </tr>\n",
       "    <tr>\n",
       "      <th>23399</th>\n",
       "      <td>NEW FAMILIES</td>\n",
       "      <td>6497</td>\n",
       "      <td>12070</td>\n",
       "      <td>47347.95</td>\n",
       "      <td>2.56</td>\n",
       "      <td>2.56</td>\n",
       "    </tr>\n",
       "  </tbody>\n",
       "</table>\n",
       "</div>"
      ],
      "text/plain": [
       "                     LIFESTAGE  TOT_NBR  TOT_QTY  TOT_SALES  PERCENT  \\\n",
       "75056    OLDER SINGLES/COUPLES    50792    97183  376013.65    20.64   \n",
       "125849                RETIREES    46431    87875  342381.90    18.67   \n",
       "29896           OLDER FAMILIES    45160    88296  329819.90    18.75   \n",
       "172280          YOUNG FAMILIES    40494    78577  294627.90    16.69   \n",
       "0        YOUNG SINGLES/COUPLES    33969    62300  243756.60    13.23   \n",
       "1       MIDAGE SINGLES/COUPLES    23398    44496  172523.80     9.45   \n",
       "23399             NEW FAMILIES     6497    12070   47347.95     2.56   \n",
       "\n",
       "        PERCENT of QTY  \n",
       "75056            20.64  \n",
       "125849           18.67  \n",
       "29896            18.75  \n",
       "172280           16.69  \n",
       "0                13.23  \n",
       "1                 9.45  \n",
       "23399             2.56  "
      ]
     },
     "execution_count": 724,
     "metadata": {},
     "output_type": "execute_result"
    }
   ],
   "source": [
    "df_lifestage_res = df_lifestage_res.sort_values('TOT_SALES',ascending =False)\n",
    "df_lifestage_res['PERCENT of QTY']=((df_lifestage_res['TOT_QTY']/df_lifestage_res['TOT_QTY'].sum())*100).round(2)\n",
    "df_lifestage_res"
   ]
  },
  {
   "cell_type": "markdown",
   "id": "af53b7e9",
   "metadata": {},
   "source": [
    "* TOT_NBR is number of customer per this segment\n",
    "* TOT_QTY is how many chips were bought\n",
    "* TOT_SALES is sales in total\n",
    "* PERCENT is percentage of quantity bought by lifestage to the total number of chips bought"
   ]
  },
  {
   "cell_type": "markdown",
   "id": "806e8100",
   "metadata": {},
   "source": [
    "Older singles/couples make more sales and this segment buys more than 20% of total products quantity. They buy more chips than any other segment.\n",
    "Only older customers (if take them as one segment: Older singles, retirees, older families,) that segment purchases more than 58 % of products. \n",
    "The question is why older people tend to buy chips"
   ]
  },
  {
   "cell_type": "markdown",
   "id": "c1aabcae",
   "metadata": {},
   "source": [
    "#### Customers by premium purchasings"
   ]
  },
  {
   "cell_type": "code",
   "execution_count": 726,
   "id": "6b249a07",
   "metadata": {},
   "outputs": [],
   "source": [
    "df_premium_res= pd.DataFrame(columns=['PREMIUM', 'TOT_QTY', 'TOT_SALES'])"
   ]
  },
  {
   "cell_type": "code",
   "execution_count": 728,
   "id": "5574399c",
   "metadata": {},
   "outputs": [],
   "source": [
    "df_premium_res['PREMIUM']=df_result['PREMIUM_CUSTOMER'].astype('string')"
   ]
  },
  {
   "cell_type": "code",
   "execution_count": 730,
   "id": "77478719",
   "metadata": {},
   "outputs": [],
   "source": [
    "df_premium_res['TOT_QTY'] =df_result.groupby('PREMIUM_CUSTOMER')['PROD_QTY'].transform('sum')"
   ]
  },
  {
   "cell_type": "code",
   "execution_count": 731,
   "id": "c7a50e2e",
   "metadata": {},
   "outputs": [],
   "source": [
    "df_premium_res['TOT_SALES'] =df_result.groupby('PREMIUM_CUSTOMER')['TOT_SALES'].transform('sum')"
   ]
  },
  {
   "cell_type": "code",
   "execution_count": 734,
   "id": "bb678b5f",
   "metadata": {},
   "outputs": [],
   "source": [
    "df_premium_res=df_premium_res.drop_duplicates()"
   ]
  },
  {
   "cell_type": "code",
   "execution_count": 735,
   "id": "ac0c443d",
   "metadata": {},
   "outputs": [],
   "source": [
    "df_premium_res=df_premium_res.sort_values('TOT_SALES', ascending=False)"
   ]
  },
  {
   "cell_type": "code",
   "execution_count": 737,
   "id": "165ae2cb",
   "metadata": {},
   "outputs": [
    {
     "data": {
      "text/html": [
       "<div>\n",
       "<style scoped>\n",
       "    .dataframe tbody tr th:only-of-type {\n",
       "        vertical-align: middle;\n",
       "    }\n",
       "\n",
       "    .dataframe tbody tr th {\n",
       "        vertical-align: top;\n",
       "    }\n",
       "\n",
       "    .dataframe thead th {\n",
       "        text-align: right;\n",
       "    }\n",
       "</style>\n",
       "<table border=\"1\" class=\"dataframe\">\n",
       "  <thead>\n",
       "    <tr style=\"text-align: right;\">\n",
       "      <th></th>\n",
       "      <th>PREMIUM</th>\n",
       "      <th>TOT_QTY</th>\n",
       "      <th>TOT_SALES</th>\n",
       "      <th>PERCENT of SALES</th>\n",
       "      <th>PERCENT of QTY</th>\n",
       "    </tr>\n",
       "  </thead>\n",
       "  <tbody>\n",
       "    <tr>\n",
       "      <th>4692</th>\n",
       "      <td>Mainstream</td>\n",
       "      <td>180780</td>\n",
       "      <td>700865.40</td>\n",
       "      <td>38.80</td>\n",
       "      <td>38.40</td>\n",
       "    </tr>\n",
       "    <tr>\n",
       "      <th>1</th>\n",
       "      <td>Budget</td>\n",
       "      <td>165774</td>\n",
       "      <td>631406.85</td>\n",
       "      <td>34.95</td>\n",
       "      <td>35.21</td>\n",
       "    </tr>\n",
       "    <tr>\n",
       "      <th>0</th>\n",
       "      <td>Premium</td>\n",
       "      <td>124243</td>\n",
       "      <td>474199.45</td>\n",
       "      <td>26.25</td>\n",
       "      <td>26.39</td>\n",
       "    </tr>\n",
       "  </tbody>\n",
       "</table>\n",
       "</div>"
      ],
      "text/plain": [
       "         PREMIUM  TOT_QTY  TOT_SALES  PERCENT of SALES  PERCENT of QTY\n",
       "4692  Mainstream   180780  700865.40             38.80           38.40\n",
       "1         Budget   165774  631406.85             34.95           35.21\n",
       "0        Premium   124243  474199.45             26.25           26.39"
      ]
     },
     "execution_count": 737,
     "metadata": {},
     "output_type": "execute_result"
    }
   ],
   "source": [
    "df_premium_res['PERCENT of SALES']=((df_premium_res['TOT_SALES']/df_premium_res['TOT_SALES'].sum())*100).round(2)\n",
    "df_premium_res['PERCENT of QTY']=((df_premium_res['TOT_QTY']/df_premium_res['TOT_QTY'].sum())*100).round(2)\n",
    "df_premium_res"
   ]
  },
  {
   "cell_type": "markdown",
   "id": "0cca4c50",
   "metadata": {},
   "source": [
    "Mainstream is making more sales buying more chips 38.4% of total quantity. And the number of customers is the biggest among all. \n",
    "Budget is an average customer making average sales and about 35%. And amount of chips that was bought by this segment is 35.21%\n",
    "And Premium is less in all parameters among others."
   ]
  },
  {
   "cell_type": "code",
   "execution_count": 770,
   "id": "3a2a8c68",
   "metadata": {},
   "outputs": [
    {
     "data": {
      "image/png": "[encoded data removed]",
      "text/plain": [
       "<Figure size 1000x700 with 1 Axes>"
      ]
     },
     "metadata": {},
     "output_type": "display_data"
    }
   ],
   "source": [
    "fig = plt.figure(figsize =(10, 7))\n",
    "plt.pie(df_premium_res['TOT_SALES'], labels = df_premium_res['PREMIUM'])\n",
    " \n",
    "plt.show()"
   ]
  },
  {
   "cell_type": "markdown",
   "id": "06518f2f",
   "metadata": {},
   "source": [
    "### Two dimension analysis"
   ]
  },
  {
   "cell_type": "code",
   "execution_count": 747,
   "id": "e75100e4",
   "metadata": {},
   "outputs": [],
   "source": [
    "df_two_dim = pd.DataFrame(columns=['PREMIUM', 'LIFESTAGE', 'TOT_QTY', 'TOT_SALES'])"
   ]
  },
  {
   "cell_type": "code",
   "execution_count": 748,
   "id": "0fa29d4c",
   "metadata": {},
   "outputs": [],
   "source": [
    "df_two_dim['PREMIUM']=df_result['PREMIUM_CUSTOMER']\n",
    "df_two_dim['LIFESTAGE']=df_result['LIFESTAGE']"
   ]
  },
  {
   "cell_type": "code",
   "execution_count": 750,
   "id": "b645ad74",
   "metadata": {},
   "outputs": [],
   "source": [
    "df_two_dim['TOT_QTY']=df_result.groupby(['PREMIUM_CUSTOMER','LIFESTAGE'])['PROD_QTY'].transform('sum')"
   ]
  },
  {
   "cell_type": "code",
   "execution_count": 751,
   "id": "80485039",
   "metadata": {},
   "outputs": [],
   "source": [
    "df_two_dim['TOT_SALES']=df_result.groupby(['PREMIUM_CUSTOMER','LIFESTAGE'])['TOT_SALES'].transform('sum')"
   ]
  },
  {
   "cell_type": "code",
   "execution_count": 752,
   "id": "376d2ee4",
   "metadata": {},
   "outputs": [],
   "source": [
    "df_two_dim=df_two_dim.drop_duplicates()"
   ]
  },
  {
   "cell_type": "code",
   "execution_count": 757,
   "id": "3e61fd50",
   "metadata": {
    "scrolled": true
   },
   "outputs": [
    {
     "data": {
      "text/html": [
       "<div>\n",
       "<style scoped>\n",
       "    .dataframe tbody tr th:only-of-type {\n",
       "        vertical-align: middle;\n",
       "    }\n",
       "\n",
       "    .dataframe tbody tr th {\n",
       "        vertical-align: top;\n",
       "    }\n",
       "\n",
       "    .dataframe thead th {\n",
       "        text-align: right;\n",
       "    }\n",
       "</style>\n",
       "<table border=\"1\" class=\"dataframe\">\n",
       "  <thead>\n",
       "    <tr style=\"text-align: right;\">\n",
       "      <th></th>\n",
       "      <th>PREMIUM</th>\n",
       "      <th>LIFESTAGE</th>\n",
       "      <th>TOT_QTY</th>\n",
       "      <th>TOT_SALES</th>\n",
       "    </tr>\n",
       "  </thead>\n",
       "  <tbody>\n",
       "    <tr>\n",
       "      <th>109289</th>\n",
       "      <td>Premium</td>\n",
       "      <td>OLDER SINGLES/COUPLES</td>\n",
       "      <td>31693</td>\n",
       "      <td>123531.55</td>\n",
       "    </tr>\n",
       "    <tr>\n",
       "      <th>160044</th>\n",
       "      <td>Premium</td>\n",
       "      <td>RETIREES</td>\n",
       "      <td>23266</td>\n",
       "      <td>91296.65</td>\n",
       "    </tr>\n",
       "    <tr>\n",
       "      <th>201990</th>\n",
       "      <td>Premium</td>\n",
       "      <td>YOUNG FAMILIES</td>\n",
       "      <td>20901</td>\n",
       "      <td>78571.70</td>\n",
       "    </tr>\n",
       "    <tr>\n",
       "      <th>64651</th>\n",
       "      <td>Premium</td>\n",
       "      <td>OLDER FAMILIES</td>\n",
       "      <td>20639</td>\n",
       "      <td>76542.60</td>\n",
       "    </tr>\n",
       "    <tr>\n",
       "      <th>15787</th>\n",
       "      <td>Premium</td>\n",
       "      <td>MIDAGE SINGLES/COUPLES</td>\n",
       "      <td>14400</td>\n",
       "      <td>54443.85</td>\n",
       "    </tr>\n",
       "    <tr>\n",
       "      <th>0</th>\n",
       "      <td>Premium</td>\n",
       "      <td>YOUNG SINGLES/COUPLES</td>\n",
       "      <td>10575</td>\n",
       "      <td>39052.30</td>\n",
       "    </tr>\n",
       "    <tr>\n",
       "      <th>28408</th>\n",
       "      <td>Premium</td>\n",
       "      <td>NEW FAMILIES</td>\n",
       "      <td>2769</td>\n",
       "      <td>10760.80</td>\n",
       "    </tr>\n",
       "    <tr>\n",
       "      <th>221347</th>\n",
       "      <td>Mainstream</td>\n",
       "      <td>YOUNG SINGLES/COUPLES</td>\n",
       "      <td>36225</td>\n",
       "      <td>147582.20</td>\n",
       "    </tr>\n",
       "    <tr>\n",
       "      <th>140074</th>\n",
       "      <td>Mainstream</td>\n",
       "      <td>RETIREES</td>\n",
       "      <td>37677</td>\n",
       "      <td>145168.95</td>\n",
       "    </tr>\n",
       "    <tr>\n",
       "      <th>92228</th>\n",
       "      <td>Mainstream</td>\n",
       "      <td>OLDER SINGLES/COUPLES</td>\n",
       "      <td>32607</td>\n",
       "      <td>124648.50</td>\n",
       "    </tr>\n",
       "    <tr>\n",
       "      <th>51410</th>\n",
       "      <td>Mainstream</td>\n",
       "      <td>OLDER FAMILIES</td>\n",
       "      <td>25804</td>\n",
       "      <td>96413.55</td>\n",
       "    </tr>\n",
       "    <tr>\n",
       "      <th>190043</th>\n",
       "      <td>Mainstream</td>\n",
       "      <td>YOUNG FAMILIES</td>\n",
       "      <td>23194</td>\n",
       "      <td>86338.25</td>\n",
       "    </tr>\n",
       "    <tr>\n",
       "      <th>4692</th>\n",
       "      <td>Mainstream</td>\n",
       "      <td>MIDAGE SINGLES/COUPLES</td>\n",
       "      <td>21213</td>\n",
       "      <td>84734.25</td>\n",
       "    </tr>\n",
       "    <tr>\n",
       "      <th>26223</th>\n",
       "      <td>Mainstream</td>\n",
       "      <td>NEW FAMILIES</td>\n",
       "      <td>4060</td>\n",
       "      <td>15979.70</td>\n",
       "    </tr>\n",
       "    <tr>\n",
       "      <th>29896</th>\n",
       "      <td>Budget</td>\n",
       "      <td>OLDER FAMILIES</td>\n",
       "      <td>41853</td>\n",
       "      <td>156863.75</td>\n",
       "    </tr>\n",
       "    <tr>\n",
       "      <th>172280</th>\n",
       "      <td>Budget</td>\n",
       "      <td>YOUNG FAMILIES</td>\n",
       "      <td>34482</td>\n",
       "      <td>129717.95</td>\n",
       "    </tr>\n",
       "    <tr>\n",
       "      <th>75056</th>\n",
       "      <td>Budget</td>\n",
       "      <td>OLDER SINGLES/COUPLES</td>\n",
       "      <td>32883</td>\n",
       "      <td>127833.60</td>\n",
       "    </tr>\n",
       "    <tr>\n",
       "      <th>125849</th>\n",
       "      <td>Budget</td>\n",
       "      <td>RETIREES</td>\n",
       "      <td>26932</td>\n",
       "      <td>105916.30</td>\n",
       "    </tr>\n",
       "    <tr>\n",
       "      <th>212774</th>\n",
       "      <td>Budget</td>\n",
       "      <td>YOUNG SINGLES/COUPLES</td>\n",
       "      <td>15500</td>\n",
       "      <td>57122.10</td>\n",
       "    </tr>\n",
       "    <tr>\n",
       "      <th>1</th>\n",
       "      <td>Budget</td>\n",
       "      <td>MIDAGE SINGLES/COUPLES</td>\n",
       "      <td>8883</td>\n",
       "      <td>33345.70</td>\n",
       "    </tr>\n",
       "    <tr>\n",
       "      <th>23399</th>\n",
       "      <td>Budget</td>\n",
       "      <td>NEW FAMILIES</td>\n",
       "      <td>5241</td>\n",
       "      <td>20607.45</td>\n",
       "    </tr>\n",
       "  </tbody>\n",
       "</table>\n",
       "</div>"
      ],
      "text/plain": [
       "           PREMIUM               LIFESTAGE  TOT_QTY  TOT_SALES\n",
       "109289     Premium   OLDER SINGLES/COUPLES    31693  123531.55\n",
       "160044     Premium                RETIREES    23266   91296.65\n",
       "201990     Premium          YOUNG FAMILIES    20901   78571.70\n",
       "64651      Premium          OLDER FAMILIES    20639   76542.60\n",
       "15787      Premium  MIDAGE SINGLES/COUPLES    14400   54443.85\n",
       "0          Premium   YOUNG SINGLES/COUPLES    10575   39052.30\n",
       "28408      Premium            NEW FAMILIES     2769   10760.80\n",
       "221347  Mainstream   YOUNG SINGLES/COUPLES    36225  147582.20\n",
       "140074  Mainstream                RETIREES    37677  145168.95\n",
       "92228   Mainstream   OLDER SINGLES/COUPLES    32607  124648.50\n",
       "51410   Mainstream          OLDER FAMILIES    25804   96413.55\n",
       "190043  Mainstream          YOUNG FAMILIES    23194   86338.25\n",
       "4692    Mainstream  MIDAGE SINGLES/COUPLES    21213   84734.25\n",
       "26223   Mainstream            NEW FAMILIES     4060   15979.70\n",
       "29896       Budget          OLDER FAMILIES    41853  156863.75\n",
       "172280      Budget          YOUNG FAMILIES    34482  129717.95\n",
       "75056       Budget   OLDER SINGLES/COUPLES    32883  127833.60\n",
       "125849      Budget                RETIREES    26932  105916.30\n",
       "212774      Budget   YOUNG SINGLES/COUPLES    15500   57122.10\n",
       "1           Budget  MIDAGE SINGLES/COUPLES     8883   33345.70\n",
       "23399       Budget            NEW FAMILIES     5241   20607.45"
      ]
     },
     "execution_count": 757,
     "metadata": {},
     "output_type": "execute_result"
    }
   ],
   "source": [
    "df_two_dim.sort_values(['PREMIUM','TOT_SALES'], ascending= False)"
   ]
  },
  {
   "cell_type": "markdown",
   "id": "326a56c9",
   "metadata": {},
   "source": [
    "Through Premium segment older singles buy more chips.\n",
    "Looking at Mainstream Young and retirees make more purchases.\n",
    "On Budget Older Families."
   ]
  }
 ],
 "metadata": {
  "kernelspec": {
   "display_name": "Python 3 (ipykernel)",
   "language": "python",
   "name": "python3"
  },
  "language_info": {
   "codemirror_mode": {
    "name": "ipython",
    "version": 3
   },
   "file_extension": ".py",
   "mimetype": "text/x-python",
   "name": "python",
   "nbconvert_exporter": "python",
   "pygments_lexer": "ipython3",
   "version": "3.9.12"
  }
 },
 "nbformat": 4,
 "nbformat_minor": 5
}
